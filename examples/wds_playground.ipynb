{
 "cells": [
  {
   "cell_type": "code",
   "execution_count": 1,
   "id": "903eb159-f4c3-49d5-8cae-51da1e79a110",
   "metadata": {},
   "outputs": [],
   "source": [
    "from atek.dataset.atek_webdataset import create_atek_webdataset, create_wds_dataloader\n",
    "import yaml\n",
    "import os\n",
    "import webdataset as wds"
   ]
  },
  {
   "cell_type": "code",
   "execution_count": 2,
   "id": "4c1a74ad-4b8f-402a-99a1-383d58e9e72a",
   "metadata": {},
   "outputs": [
    {
     "name": "stdout",
     "output_type": "stream",
     "text": [
      "828\n"
     ]
    }
   ],
   "source": [
    "tars_yaml = \"/source_1a/data/atek/adt_503849115/train_debug.yaml\"\n",
    "\n",
    "def get_tars(tar_yaml, use_relative_path=False):\n",
    "    with open(tar_yaml, \"r\") as f:\n",
    "        tar_files = yaml.safe_load(f)[\"tars\"]\n",
    "    if use_relative_path:\n",
    "        data_dir = os.path.dirname(tar_yaml)\n",
    "        tar_files = [os.path.join(data_dir, x) for x in tar_files]\n",
    "    return tar_files\n",
    "\n",
    "tars = get_tars(tars_yaml, True)\n",
    "print(len(tars))"
   ]
  },
  {
   "cell_type": "code",
   "execution_count": 3,
   "id": "254a535e-f4a3-4df4-9ec1-68a33bdececc",
   "metadata": {},
   "outputs": [
    {
     "name": "stdout",
     "output_type": "stream",
     "text": [
      "['/source_1a/data/atek/adt_503849115/1WM10360071292_optitrack_release_multiskeleton_party_seq121/shards-0015.tar', '/source_1a/data/atek/adt_503849115/1WM103600M1292_optitrack_release_recognition_seq133/shards-0000.tar', '/source_1a/data/atek/adt_503849115/1WM103600M1292_optitrack_release_recognition_seq133/shards-0001.tar', '/source_1a/data/atek/adt_503849115/1WM103600M1292_optitrack_release_recognition_seq133/shards-0002.tar', '/source_1a/data/atek/adt_503849115/1WM103600M1292_optitrack_release_recognition_seq133/shards-0003.tar', '/source_1a/data/atek/adt_503849115/1WM103600M1292_optitrack_release_recognition_seq133/shards-0004.tar', '/source_1a/data/atek/adt_503849115/1WM103600M1292_optitrack_release_recognition_seq133/shards-0005.tar', '/source_1a/data/atek/adt_503849115/1WM103600M1292_optitrack_release_recognition_seq133/shards-0006.tar', '/source_1a/data/atek/adt_503849115/1WM103600M1292_optitrack_release_recognition_seq133/shards-0007.tar', '/source_1a/data/atek/adt_503849115/1WM103600M1292_optitrack_release_recognition_seq133/shards-0008.tar']\n"
     ]
    }
   ],
   "source": [
    "small_tars = tars[:10]\n",
    "print(small_tars)"
   ]
  },
  {
   "cell_type": "code",
   "execution_count": 4,
   "id": "87b86bf5-82d5-4f73-b8c9-15e79d3de61c",
   "metadata": {},
   "outputs": [
    {
     "name": "stdout",
     "output_type": "stream",
     "text": [
      "{'__key__': ['fsg_000480', 'fsg_000480'], '__url__': ['/source_1a/data/atek/adt_503849115/1WM10360071292_optitrack_release_multiskeleton_party_seq121/shards-0015.tar', '/source_1a/data/atek/adt_503849115/1WM10360071292_optitrack_release_multiskeleton_party_seq121/shards-0015.tar'], 'T': tensor([[[-0.7943, -0.2227,  0.5653, -2.5847],\n",
      "         [ 0.0740, -0.9590, -0.2737,  1.5859],\n",
      "         [ 0.6030, -0.1756,  0.7782, -2.0159]],\n",
      "\n",
      "        [[-0.7943, -0.2227,  0.5653, -2.5847],\n",
      "         [ 0.0740, -0.9590, -0.2737,  1.5859],\n",
      "         [ 0.6030, -0.1756,  0.7782, -2.0159]]])}\n"
     ]
    }
   ],
   "source": [
    "import webdataset as wds\n",
    "\n",
    "def filter_keys(k: str)->str:\n",
    "    return k == \"FSG+T_world_local\"\n",
    "\n",
    "def remap_keys(k: str)->str:\n",
    "    key_map = {\"FSG+T_world_local\" : \"T\"}\n",
    "    if k in key_map.keys():\n",
    "        return key_map[k]\n",
    "    else:\n",
    "        return k\n",
    "\n",
    "def create_dup(data):\n",
    "    for sample in data:\n",
    "        for i in range(2):\n",
    "            yield sample\n",
    "\n",
    "ds = create_atek_webdataset(\n",
    "    urls = small_tars, \n",
    "    batch_size = 2, \n",
    "    nodesplitter=wds.shardlists.split_by_node,\n",
    "    select_key_fn = filter_keys, \n",
    "    remap_key_fn = remap_keys,\n",
    "    data_transform_fn = wds.filters.pipelinefilter(create_dup)(),\n",
    "    )\n",
    "\n",
    "# ds = ds.compose(wds.filters.log_keys())\n",
    "# ds = ds.compose(wds.filters.pipelinefilter(create_dup)())\n",
    "\n",
    "for obj in ds:\n",
    "    print(obj)\n",
    "    break"
   ]
  },
  {
   "cell_type": "code",
   "execution_count": 5,
   "id": "a406c442-8af7-47b4-99d7-8ff96e6a889c",
   "metadata": {},
   "outputs": [],
   "source": [
    "dataloader = create_wds_dataloader(ds, num_workers=4, pin_memory=False)"
   ]
  },
  {
   "cell_type": "code",
   "execution_count": 6,
   "id": "786b9781-a8a7-4c31-9039-2a3ba3418977",
   "metadata": {},
   "outputs": [
    {
     "name": "stderr",
     "output_type": "stream",
     "text": [
      "289it [00:02, 117.96it/s]"
     ]
    },
    {
     "name": "stdout",
     "output_type": "stream",
     "text": [
      "578\n",
      "{'/source_1a/data/atek/adt_503849115/1WM10360071292_optitrack_release_multiskeleton_party_seq121/shards-0015.tar': 2, '/source_1a/data/atek/adt_503849115/1WM103600M1292_optitrack_release_recognition_seq133/shards-0000.tar': 64, '/source_1a/data/atek/adt_503849115/1WM103600M1292_optitrack_release_recognition_seq133/shards-0001.tar': 64, '/source_1a/data/atek/adt_503849115/1WM103600M1292_optitrack_release_recognition_seq133/shards-0002.tar': 64, '/source_1a/data/atek/adt_503849115/1WM103600M1292_optitrack_release_recognition_seq133/shards-0003.tar': 64, '/source_1a/data/atek/adt_503849115/1WM103600M1292_optitrack_release_recognition_seq133/shards-0004.tar': 64, '/source_1a/data/atek/adt_503849115/1WM103600M1292_optitrack_release_recognition_seq133/shards-0005.tar': 64, '/source_1a/data/atek/adt_503849115/1WM103600M1292_optitrack_release_recognition_seq133/shards-0006.tar': 64, '/source_1a/data/atek/adt_503849115/1WM103600M1292_optitrack_release_recognition_seq133/shards-0007.tar': 64, '/source_1a/data/atek/adt_503849115/1WM103600M1292_optitrack_release_recognition_seq133/shards-0008.tar': 64}\n"
     ]
    },
    {
     "name": "stderr",
     "output_type": "stream",
     "text": [
      "\n"
     ]
    }
   ],
   "source": [
    "from tqdm import tqdm\n",
    "sample_count = 0\n",
    "per_url_smaple_count = {}\n",
    "for data in tqdm(dataloader):\n",
    "    urls = data[\"__url__\"]\n",
    "    for url in urls:\n",
    "        if url in per_url_smaple_count:\n",
    "            per_url_smaple_count[url] += 1\n",
    "        else:\n",
    "            per_url_smaple_count[url] = 1\n",
    "    sample_count += len(urls)\n",
    "print(sample_count)\n",
    "print(per_url_smaple_count)"
   ]
  },
  {
   "cell_type": "code",
   "execution_count": 7,
   "id": "d4c33915-a790-4503-a267-404cd19650cf",
   "metadata": {},
   "outputs": [],
   "source": [
    "from typing import List, Optional, Dict\n",
    "import torch\n",
    "\n",
    "from detectron2.data import detection_utils\n",
    "from detectron2.structures import Boxes, BoxMode, Instances\n",
    "\n",
    "from webdataset.filters import pipelinefilter\n",
    "from atek.dataset.omni3d_adapter import create_omni3d_webdataset\n"
   ]
  },
  {
   "cell_type": "code",
   "execution_count": 8,
   "id": "2bba2219-db34-4335-a959-92f2a140eaab",
   "metadata": {
    "scrolled": true
   },
   "outputs": [
    {
     "name": "stderr",
     "output_type": "stream",
     "text": [
      "145it [00:01, 77.84it/s] "
     ]
    },
    {
     "name": "stdout",
     "output_type": "stream",
     "text": [
      "289\n"
     ]
    },
    {
     "name": "stderr",
     "output_type": "stream",
     "text": [
      "\n"
     ]
    }
   ],
   "source": [
    "omni3d_wds = create_omni3d_webdataset(small_tars, batch_size=2)\n",
    "dataloader = create_wds_dataloader(omni3d_wds, num_workers=10, pin_memory=False)\n",
    "\n",
    "from tqdm import tqdm\n",
    "sample_count = 0\n",
    "for data in tqdm(dataloader):\n",
    "    sample_count += len(data)\n",
    "    pass\n",
    "\n",
    "print(sample_count)"
   ]
  }
 ],
 "metadata": {
  "kernelspec": {
   "display_name": "Python 3 (ipykernel)",
   "language": "python",
   "name": "python3"
  },
  "language_info": {
   "codemirror_mode": {
    "name": "ipython",
    "version": 3
   },
   "file_extension": ".py",
   "mimetype": "text/x-python",
   "name": "python",
   "nbconvert_exporter": "python",
   "pygments_lexer": "ipython3",
   "version": "3.9.18"
  }
 },
 "nbformat": 4,
 "nbformat_minor": 5
}
