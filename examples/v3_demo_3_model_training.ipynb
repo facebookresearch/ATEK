{
 "cells": [
  {
   "cell_type": "markdown",
   "id": "1dca2d69-8476-4564-8bd5-4ddccb4cb0c4",
   "metadata": {},
   "source": [
    "# ATEK Demo 3: Model training in ATEK"
   ]
  },
  {
   "cell_type": "code",
   "execution_count": null,
   "id": "4794960e-e96b-4b2c-9200-fc7055a6d27b",
   "metadata": {},
   "outputs": [],
   "source": [
    "import faulthandler\n",
    "\n",
    "import logging\n",
    "import os\n",
    "from logging import StreamHandler\n",
    "import numpy as np\n",
    "from typing import Dict, List, Optional\n",
    "import torch\n",
    "import sys\n",
    "import subprocess\n",
    "from tqdm import tqdm\n",
    "\n",
    "from atek.viz.atek_visualizer import NativeAtekSampleVisualizer\n",
    "from atek.data_loaders.atek_wds_dataloader import (\n",
    "    create_native_atek_dataloader\n",
    ")\n",
    "from atek.util.file_io_utils import load_yaml_and_extract_tar_list\n",
    "from omegaconf import OmegaConf\n",
    "\n",
    "faulthandler.enable()\n",
    "\n",
    "# Configure logging to display the log messages in the notebook\n",
    "logging.basicConfig(\n",
    "    level=logging.INFO,\n",
    "    format='%(asctime)s - %(levelname)s - %(message)s',\n",
    "    handlers=[\n",
    "        logging.StreamHandler(sys.stdout)\n",
    "    ]\n",
    ")\n",
    "\n",
    "logger = logging.getLogger()\n",
    "\n",
    "def run_command_and_display_output(command):\n",
    "    # Start the process\n",
    "    process = subprocess.Popen(command, stdout=subprocess.PIPE, stderr=subprocess.STDOUT, text=True)\n",
    "\n",
    "    # Poll process.stdout to show stdout live\n",
    "    while True:\n",
    "        output = process.stdout.readline()\n",
    "        if output == '' and process.poll() is not None:\n",
    "            break\n",
    "        if output:\n",
    "            print(output.strip())\n",
    "    rc = process.poll()\n",
    "    return rc"
   ]
  },
  {
   "cell_type": "markdown",
   "id": "59a0a29e-e5ca-40cc-af1a-bfea68bff898",
   "metadata": {},
   "source": [
    "### Set up data and code paths"
   ]
  },
  {
   "cell_type": "code",
   "execution_count": null,
   "id": "2882fa04-4a17-403f-ad29-4e97f63c85f8",
   "metadata": {},
   "outputs": [],
   "source": [
    "data_dir = \"/home/louy/Calibration_data_link/Atek/2024_08_05_DryRun\"\n",
    "atek_src_path = os.path.join(os.path.expanduser(\"~\"), \"atek_on_fbsource\")\n",
    "viz_conf = OmegaConf.load(os.path.join(atek_src_path, \"atek\", \"configs\", \"obb_viz.yaml\"))\n",
    "atek_json_path = os.path.join(data_dir, \"AriaDigitalTwin_ATEK_download_urls.json\")"
   ]
  },
  {
   "cell_type": "markdown",
   "id": "20bf1fe1-6da0-437b-b6bb-594b9e79349d",
   "metadata": {},
   "source": [
    "### Step 1: Download preprocessed data from ATEK Data Store"
   ]
  },
  {
   "cell_type": "code",
   "execution_count": null,
   "id": "7fa744f5-d41a-4bd8-950d-02aa083981d9",
   "metadata": {},
   "outputs": [],
   "source": [
    "# Download from ATEK Data Store\n",
    "download_data_command = [\n",
    "    \"python3\", f\"{atek_src_path}/tools/dataverse_url_parser.py\",\n",
    "    \"--config-name\",\"cubercnn\",\n",
    "    \"--input-json-path\",f\"{atek_json_path}\",\n",
    "    \"--output-folder-path\",f\"{data_dir}/downloaded_local_wds/\",\n",
    "    \"--max-num-sequences\", \"5\",\n",
    "    \"--train-val-split-ratio\", \"0.8\"\n",
    "]\n",
    "\n",
    "# Uncomment this line to download data\n",
    "# return_code = run_command_and_display_output(download_data_command)"
   ]
  },
  {
   "cell_type": "markdown",
   "id": "0e2d996e-7205-4c62-9e3f-7dea69d0f0b8",
   "metadata": {},
   "source": [
    "## ATEK Training example with CubeRCNN\n",
    "User can call our `tools/train_cubercnn.py` script to perform training on ATEK WDS data downloaded from Data Store. We will run this on my local machine for a mini demonstration.  \n",
    "\n",
    "Core code snippets in the script (check out the script for full details): \n",
    "```\n",
    "model.train()\n",
    "tar_file_urls = load_yaml_and_extract_tar_list(train_list_yaml)\n",
    "data_loader = create_atek_dataloader_as_cubercnn(urls = tar_file_urls, ...)\n",
    "\n",
    "# Loop over cubercnn-format data samples\n",
    "for sample_data in data_loader:\n",
    "    # Training step\n",
    "    loss_dict = model(data)\n",
    "    losses = sum(loss_dict.values())\n",
    "    optimizer.zero_grad()\n",
    "    losses.backward()\n",
    "    optimizer.step()\n",
    "    ...\n",
    "```"
   ]
  },
  {
   "cell_type": "code",
   "execution_count": null,
   "id": "1ded1ad6-ef4a-4e4d-a49d-a1b7c884a17b",
   "metadata": {},
   "outputs": [],
   "source": [
    "# Example training command\n",
    "mini_training_command = [\n",
    "  f\"python\",f\"{atek_src_path}/tools/train_cubercnn.py\",\n",
    "  \"--config-file\",f\"{data_dir}/cubercnn_train_config_mini_example.yaml\",\n",
    "  \"--num-gpus\", \"1\",\n",
    "  \"OUTPUT_DIR\", f\"{data_dir}/mini_test_1\",\n",
    "  \"TRAIN_LIST\",f\"{data_dir}/downloaded_local_wds/local_train_tars.yaml\",\n",
    "  \"TEST_LIST\", f\"{data_dir}/downloaded_local_wds/local_validation_tars.yaml\",\n",
    "  # \"TRAIN_LIST\",f\"{data_dir}/streamable_yamls/streamable_train_tars.yaml\",\n",
    "  # \"TEST_LIST\", f\"{data_dir}/streamable_yamls/streamable_validation_tars.yaml\",\n",
    "  \"CATEGORY_JSON\", f\"{atek_src_path}/data/atek_id_to_name.json\",\n",
    "  \"ID_MAP_JSON\", f\"{atek_src_path}/data/atek_name_to_id.json\",\n",
    "  \"MODEL.WEIGHTS_PRETRAIN\", f\"/home/louy/Calibration_data_link/Atek/cubercnn_DLA34_FPN.pth\"\n",
    "]\n",
    "return_code = run_command_and_display_output(mini_training_command)"
   ]
  },
  {
   "cell_type": "code",
   "execution_count": null,
   "id": "0bc3cd12-d2d0-46a9-a518-4060cb364818",
   "metadata": {},
   "outputs": [],
   "source": [
    "# [Optional] Inspect training progress using tensorboard\n",
    "tensorboard_command = [\"tensorboard\", f\"--logdir={data_dir}/full_train_tensorboard\", \"--port\", \"6007\", \"--samples_per_plugin=images=1000\"]\n",
    "return_code = run_command_and_display_output(tensorboard_command)"
   ]
  }
 ],
 "metadata": {
  "fileHeader": "",
  "fileUid": "c1c7ca89-91a5-4458-ab04-b78ff4110706",
  "isAdHoc": false,
  "kernelspec": {
   "display_name": "Python 3 (ipykernel)",
   "language": "python",
   "name": "python3"
  },
  "language_info": {
   "codemirror_mode": {
    "name": "ipython",
    "version": 3
   },
   "file_extension": ".py",
   "mimetype": "text/x-python",
   "name": "python",
   "nbconvert_exporter": "python",
   "pygments_lexer": "ipython3",
   "version": "3.9.19"
  }
 },
 "nbformat": 4
}
