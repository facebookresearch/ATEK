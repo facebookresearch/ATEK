{
 "cells": [
  {
   "cell_type": "markdown",
   "id": "edb6e913",
   "metadata": {},
   "source": [
    "# ATEK Demo 2: ATEK Data Store and training"
   ]
  },
  {
   "cell_type": "code",
   "execution_count": 1,
   "id": "83982be6",
   "metadata": {},
   "outputs": [],
   "source": [
    "import faulthandler\n",
    "\n",
    "import logging\n",
    "import os\n",
    "from logging import StreamHandler\n",
    "import numpy as np\n",
    "from typing import Dict, List, Optional\n",
    "import torch\n",
    "import sys\n",
    "import subprocess\n",
    "from tqdm import tqdm\n",
    "\n",
    "from atek.viz.atek_visualizer import NativeAtekSampleVisualizer\n",
    "from atek.data_loaders.atek_wds_dataloader import (\n",
    "    create_native_atek_dataloader\n",
    ")\n",
    "from atek.util.file_io_utils import load_yaml_and_extract_tar_list\n",
    "from omegaconf import OmegaConf\n",
    "\n",
    "faulthandler.enable()\n",
    "\n",
    "# Configure logging to display the log messages in the notebook\n",
    "logging.basicConfig(\n",
    "    level=logging.INFO,\n",
    "    format='%(asctime)s - %(levelname)s - %(message)s',\n",
    "    handlers=[\n",
    "        logging.StreamHandler(sys.stdout)\n",
    "    ]\n",
    ")\n",
    "\n",
    "logger = logging.getLogger()\n",
    "\n",
    "def run_command_and_display_output(command):\n",
    "    # Start the process\n",
    "    process = subprocess.Popen(command, stdout=subprocess.PIPE, stderr=subprocess.STDOUT, text=True)\n",
    "    \n",
    "    # Poll process.stdout to show stdout live\n",
    "    while True:\n",
    "        output = process.stdout.readline()\n",
    "        if output == '' and process.poll() is not None:\n",
    "            break\n",
    "        if output:\n",
    "            print(output.strip())\n",
    "    rc = process.poll()\n",
    "    return rc"
   ]
  },
  {
   "cell_type": "markdown",
   "id": "3764dfc3",
   "metadata": {},
   "source": [
    "### Set up data and code paths"
   ]
  },
  {
   "cell_type": "code",
   "execution_count": 3,
   "id": "f585c0a5",
   "metadata": {},
   "outputs": [],
   "source": [
    "# data_dir = os.path.join(os.path.expanduser(\"~\"), \"Documents\", \"projectaria_tools_adt_data/\")\n",
    "data_dir = \"/home/louy/Calibration_data_link/Atek/2024_08_05_DryRun\"\n",
    "atek_src_path = os.path.join(os.path.expanduser(\"~\"), \"atek_on_fbsource\")\n",
    "viz_conf = OmegaConf.load(os.path.join(atek_src_path, \"atek\", \"configs\", \"obb_viz.yaml\"))"
   ]
  },
  {
   "cell_type": "markdown",
   "id": "2a361c81-6c71-4e0b-ac7e-2a4c109e8097",
   "metadata": {},
   "source": [
    "## Part 1: ATEK Data Store\n",
    "**ATEK Data Store** is a place where users can directly download preprocessed Aria datasets in WebDataset (WDS) format, completely skipping the preprocessing step. This demo walks through the steps for accessing datasets on ATEK Data Store. \n",
    "\n",
    "1. Download `AriaDigitalTwin_ATEK_download_urls.json` from [Dataverse](https://www.internalfb.com/manifold/explorer/surreal_atek_public/flat/AriaSyntheticEnvironment_ATEK_download_urls.json).  \n",
    "2. Call `tools/dataverse_url_parser.py` to parse json file:\n",
    "    1. [Option 1] Create streamable-version yaml files.\n",
    "    2. [Option 2] Download the WDS files and create local-version yaml files. \n",
    "3. Load yaml files in ATEK lib.    "
   ]
  },
  {
   "cell_type": "code",
   "execution_count": 4,
   "id": "2e7448d2-be9e-486a-b2a6-de6be1a06948",
   "metadata": {},
   "outputs": [
    {
     "name": "stdout",
     "output_type": "stream",
     "text": [
      "2024-09-08 17:50:32,162 - ERROR - Please download AriaDigitalTwin_ATEK_download_urls.json from ATEK Data Store\n",
      "Traceback (most recent call last):\n",
      "File \"/home/louy/atek_on_fbsource/tools/dataverse_url_parser.py\", line 367, in <module>\n",
      "main(\n",
      "File \"/home/louy/atek_on_fbsource/tools/dataverse_url_parser.py\", line 234, in main\n",
      "assert os.path.exists(\n",
      "AssertionError: Input JSON file /home/louy/Calibration_data_link/Atek/2024_08_05_DryRun/AriaSyntheticEnvironment_ATEK_download_urls.json does not exist.\n"
     ]
    },
    {
     "name": "stderr",
     "output_type": "stream",
     "text": [
      "/home/louy/miniconda3/envs/atek-examples/lib/python3.10/site-packages/webdataset/compat.py:136: UserWarning: WebDataset(shardshuffle=...) is None; set explicitly to False or a number\n",
      "  warnings.warn(\"WebDataset(shardshuffle=...) is None; set explicitly to False or a number\")\n",
      "[2024-09-09T00:50:32Z INFO  re_sdk_comms::server] Hosting a SDK server over TCP at 0.0.0.0:9876. Connect with the Rerun logging SDK.\n",
      "[2024-09-09T00:50:32Z INFO  winit::platform_impl::platform::x11::window] Guessed window scale factor: 1\n",
      "[2024-09-09T00:50:32Z INFO  re_sdk_comms::server] New SDK client connected from: 127.0.0.1:46002\n",
      "[2024-09-09T00:50:34Z WARN  wgpu_hal::gles::adapter] Detected skylake derivative running on mesa i915. Clears to srgb textures will use manual shader clears.\n",
      "[2024-09-09T00:50:34Z WARN  wgpu_hal::gles::adapter] Detected skylake derivative running on mesa i915. Clears to srgb textures will use manual shader clears.\n",
      "[2024-09-09T00:50:34Z INFO  egui_wgpu] There were 4 available wgpu adapters: {backend: Vulkan, device_type: IntegratedGpu, name: \"Intel(R) UHD Graphics (TGL GT1)\", driver: \"Intel open-source Mesa driver\", driver_info: \"Mesa 24.1.6\", vendor: 0x8086, device: 0x9A60}, {backend: Vulkan, device_type: DiscreteGpu, name: \"NVIDIA GeForce RTX 3070 Laptop GPU\", driver: \"NVIDIA\", driver_info: \"555.58.02\", vendor: 0x10DE, device: 0x249D}, {backend: Vulkan, device_type: Cpu, name: \"llvmpipe (LLVM 18.1.6, 256 bits)\", driver: \"llvmpipe\", driver_info: \"Mesa 24.1.6 (LLVM 18.1.6)\", vendor: 0x10005}, {backend: Gl, device_type: IntegratedGpu, name: \"Mesa Intel(R) UHD Graphics (TGL GT1)\", driver: \"OpenGL\", driver_info: \"4.6 (Compatibility Profile) Mesa 24.1.7\", vendor: 0x8086}\n",
      "/home/louy/miniconda3/envs/atek-examples/lib/python3.10/site-packages/webdataset/autodecode.py:121: FutureWarning: You are using `torch.load` with `weights_only=False` (the current default value), which uses the default pickle module implicitly. It is possible to construct malicious pickle data which will execute arbitrary code during unpickling (See https://github.com/pytorch/pytorch/blob/main/SECURITY.md#untrusted-models for more details). In a future release, the default value for `weights_only` will be flipped to `True`. This limits the functions that could be executed during unpickling. Arbitrary objects will no longer be allowed to be loaded via this mode unless they are explicitly allowlisted by the user via `torch.serialization.add_safe_globals`. We recommend you start setting `weights_only=True` for any use case where you don't have full control of the loaded file. Please open an issue on GitHub for any issues related to this experimental feature.\n",
      "  return torch.load(stream)\n",
      "/home/louy/miniconda3/envs/atek-examples/lib/python3.10/site-packages/webdataset/autodecode.py:121: FutureWarning: You are using `torch.load` with `weights_only=False` (the current default value), which uses the default pickle module implicitly. It is possible to construct malicious pickle data which will execute arbitrary code during unpickling (See https://github.com/pytorch/pytorch/blob/main/SECURITY.md#untrusted-models for more details). In a future release, the default value for `weights_only` will be flipped to `True`. This limits the functions that could be executed during unpickling. Arbitrary objects will no longer be allowed to be loaded via this mode unless they are explicitly allowlisted by the user via `torch.serialization.add_safe_globals`. We recommend you start setting `weights_only=True` for any use case where you don't have full control of the loaded file. Please open an issue on GitHub for any issues related to this experimental feature.\n",
      "  return torch.load(stream)\n",
      "Exception ignored in: <function Pipe.__del__ at 0x7f07d61c5090>\n",
      "Traceback (most recent call last):\n",
      "  File \"/home/louy/miniconda3/envs/atek-examples/lib/python3.10/site-packages/webdataset/gopen.py\", line 121, in __del__\n",
      "    self.close()\n",
      "  File \"/home/louy/miniconda3/envs/atek-examples/lib/python3.10/site-packages/webdataset/gopen.py\", line 109, in close\n",
      "    self.wait_for_child()\n",
      "  File \"/home/louy/miniconda3/envs/atek-examples/lib/python3.10/site-packages/webdataset/gopen.py\", line 83, in wait_for_child\n",
      "    raise IOError(f\"{self.args}: exit {self.status} (read) {info}\")\n",
      "OSError: ((\"curl --connect-timeout 30 --retry 30 --retry-delay 2 -f -s -L 'https://scontent.xx.fbcdn.net/m1/v/t6/An8aNGPsUCh9HuivFvj3LCPjZ4uXcAhxwFp6ev38w-fumrvS5ihia14nh1q3L_35piRzIpc_R2j-PHLr_QS-8z9Q4HtEHg9RMBfOtdOzHXfKi9X51a-MAKI4zU4dwTWiwTK0mcN2M3K3fFi7rKLp8qFPoUiMNRadkp_5dFVIbYPLxwp_FO0.tar/AriaDigitalTwin_2_0_ATEK_cubercnn_Apartment_release_clean_seq142_M1292_shards-0003.tar?ccb=10-5&oh=00_AYBcUMiz7ddkr8VJOwpxtiAiF7MSbJcraq_-OiR5eNruew&oe=6700D383&_nc_sid=c228f2'\",), {'shell': True, 'bufsize': 8192}): exit -2 (read) {}\n"
     ]
    },
    {
     "ename": "KeyboardInterrupt",
     "evalue": "",
     "output_type": "error",
     "traceback": [
      "\u001b[0;31m---------------------------------------------------------------------------\u001b[0m",
      "\u001b[0;31mKeyboardInterrupt\u001b[0m                         Traceback (most recent call last)",
      "Cell \u001b[0;32mIn[4], line 25\u001b[0m\n\u001b[1;32m     23\u001b[0m atek_visualizer \u001b[38;5;241m=\u001b[39m NativeAtekSampleVisualizer(viz_prefix \u001b[38;5;241m=\u001b[39m \u001b[38;5;124m\"\u001b[39m\u001b[38;5;124mdataloading_visualizer\u001b[39m\u001b[38;5;124m\"\u001b[39m, conf \u001b[38;5;241m=\u001b[39m viz_conf)\n\u001b[1;32m     24\u001b[0m \u001b[38;5;28;01mfor\u001b[39;00m atek_sample_dict \u001b[38;5;129;01min\u001b[39;00m atek_dataloader:\n\u001b[0;32m---> 25\u001b[0m     \u001b[43matek_visualizer\u001b[49m\u001b[38;5;241;43m.\u001b[39;49m\u001b[43mplot_atek_sample_as_dict\u001b[49m\u001b[43m(\u001b[49m\u001b[43matek_sample_dict\u001b[49m\u001b[43m)\u001b[49m\n",
      "File \u001b[0;32m~/fbsource/fbcode/surreal/data_services/atek/atek/viz/atek_visualizer.py:124\u001b[0m, in \u001b[0;36mNativeAtekSampleVisualizer.plot_atek_sample_as_dict\u001b[0;34m(self, atek_data_sample_dict, plot_line_color, suffix)\u001b[0m\n\u001b[1;32m    119\u001b[0m \u001b[38;5;66;03m# Convert from flattened dict back to ATEK data sample\u001b[39;00m\n\u001b[1;32m    120\u001b[0m atek_data_sample \u001b[38;5;241m=\u001b[39m create_atek_data_sample_from_flatten_dict(\n\u001b[1;32m    121\u001b[0m     flatten_dict\u001b[38;5;241m=\u001b[39matek_data_sample_dict\n\u001b[1;32m    122\u001b[0m )\n\u001b[0;32m--> 124\u001b[0m \u001b[38;5;28;43mself\u001b[39;49m\u001b[38;5;241;43m.\u001b[39;49m\u001b[43mplot_atek_sample\u001b[49m\u001b[43m(\u001b[49m\n\u001b[1;32m    125\u001b[0m \u001b[43m    \u001b[49m\u001b[43matek_data_sample\u001b[49m\u001b[38;5;241;43m=\u001b[39;49m\u001b[43matek_data_sample\u001b[49m\u001b[43m,\u001b[49m\n\u001b[1;32m    126\u001b[0m \u001b[43m    \u001b[49m\u001b[43mplot_line_color\u001b[49m\u001b[38;5;241;43m=\u001b[39;49m\u001b[43mplot_line_color\u001b[49m\u001b[43m,\u001b[49m\n\u001b[1;32m    127\u001b[0m \u001b[43m    \u001b[49m\u001b[43msuffix\u001b[49m\u001b[38;5;241;43m=\u001b[39;49m\u001b[43msuffix\u001b[49m\u001b[43m,\u001b[49m\n\u001b[1;32m    128\u001b[0m \u001b[43m\u001b[49m\u001b[43m)\u001b[49m\n",
      "File \u001b[0;32m~/fbsource/fbcode/surreal/data_services/atek/atek/viz/atek_visualizer.py:102\u001b[0m, in \u001b[0;36mNativeAtekSampleVisualizer.plot_atek_sample\u001b[0;34m(self, atek_data_sample, plot_line_color, suffix)\u001b[0m\n\u001b[1;32m    100\u001b[0m \u001b[38;5;28;01mif\u001b[39;00m atek_data_sample\u001b[38;5;241m.\u001b[39mcamera_rgb:\n\u001b[1;32m    101\u001b[0m     timestamp_ns \u001b[38;5;241m=\u001b[39m atek_data_sample\u001b[38;5;241m.\u001b[39mcamera_rgb\u001b[38;5;241m.\u001b[39mcapture_timestamps_ns[\u001b[38;5;241m0\u001b[39m]\u001b[38;5;241m.\u001b[39mitem()\n\u001b[0;32m--> 102\u001b[0m     \u001b[38;5;28;43mself\u001b[39;49m\u001b[38;5;241;43m.\u001b[39;49m\u001b[43mplot_atek_sample_gt\u001b[49m\u001b[43m(\u001b[49m\n\u001b[1;32m    103\u001b[0m \u001b[43m        \u001b[49m\u001b[43matek_data_sample\u001b[49m\u001b[38;5;241;43m=\u001b[39;49m\u001b[43matek_data_sample\u001b[49m\u001b[43m,\u001b[49m\n\u001b[1;32m    104\u001b[0m \u001b[43m        \u001b[49m\u001b[43mtimestamp_ns\u001b[49m\u001b[38;5;241;43m=\u001b[39;49m\u001b[43mtimestamp_ns\u001b[49m\u001b[43m,\u001b[49m\n\u001b[1;32m    105\u001b[0m \u001b[43m        \u001b[49m\u001b[43mplot_color\u001b[49m\u001b[38;5;241;43m=\u001b[39;49m\u001b[43mplot_line_color\u001b[49m\u001b[43m,\u001b[49m\n\u001b[1;32m    106\u001b[0m \u001b[43m        \u001b[49m\u001b[43msuffix\u001b[49m\u001b[38;5;241;43m=\u001b[39;49m\u001b[43msuffix\u001b[49m\u001b[43m,\u001b[49m\n\u001b[1;32m    107\u001b[0m \u001b[43m    \u001b[49m\u001b[43m)\u001b[49m\n",
      "File \u001b[0;32m~/fbsource/fbcode/surreal/data_services/atek/atek/viz/atek_visualizer.py:171\u001b[0m, in \u001b[0;36mNativeAtekSampleVisualizer.plot_atek_sample_gt\u001b[0;34m(self, atek_data_sample, timestamp_ns, plot_color, suffix)\u001b[0m\n\u001b[1;32m    169\u001b[0m \u001b[38;5;66;03m# Plot obb3d in 3D view\u001b[39;00m\n\u001b[1;32m    170\u001b[0m \u001b[38;5;28;01mif\u001b[39;00m \u001b[38;5;124m\"\u001b[39m\u001b[38;5;124mobb3_gt\u001b[39m\u001b[38;5;124m\"\u001b[39m \u001b[38;5;129;01min\u001b[39;00m atek_data_sample\u001b[38;5;241m.\u001b[39mgt_data:\n\u001b[0;32m--> 171\u001b[0m     \u001b[38;5;28;43mself\u001b[39;49m\u001b[38;5;241;43m.\u001b[39;49m\u001b[43mplot_obb3_gt\u001b[49m\u001b[43m(\u001b[49m\n\u001b[1;32m    172\u001b[0m \u001b[43m        \u001b[49m\u001b[43matek_data_sample\u001b[49m\u001b[38;5;241;43m.\u001b[39;49m\u001b[43mgt_data\u001b[49m\u001b[43m[\u001b[49m\u001b[38;5;124;43m\"\u001b[39;49m\u001b[38;5;124;43mobb3_gt\u001b[39;49m\u001b[38;5;124;43m\"\u001b[39;49m\u001b[43m]\u001b[49m\u001b[43m,\u001b[49m\n\u001b[1;32m    173\u001b[0m \u001b[43m        \u001b[49m\u001b[43mtimestamp_ns\u001b[49m\u001b[38;5;241;43m=\u001b[39;49m\u001b[43mtimestamp_ns\u001b[49m\u001b[43m,\u001b[49m\n\u001b[1;32m    174\u001b[0m \u001b[43m        \u001b[49m\u001b[43mplot_color\u001b[49m\u001b[38;5;241;43m=\u001b[39;49m\u001b[43mplot_color\u001b[49m\u001b[43m,\u001b[49m\n\u001b[1;32m    175\u001b[0m \u001b[43m        \u001b[49m\u001b[43msuffix\u001b[49m\u001b[38;5;241;43m=\u001b[39;49m\u001b[43msuffix\u001b[49m\u001b[43m,\u001b[49m\n\u001b[1;32m    176\u001b[0m \u001b[43m    \u001b[49m\u001b[43m)\u001b[49m\n\u001b[1;32m    178\u001b[0m \u001b[38;5;66;03m# Plot EFM GT\u001b[39;00m\n\u001b[1;32m    179\u001b[0m \u001b[38;5;28;01mif\u001b[39;00m \u001b[38;5;124m\"\u001b[39m\u001b[38;5;124mefm_gt\u001b[39m\u001b[38;5;124m\"\u001b[39m \u001b[38;5;129;01min\u001b[39;00m atek_data_sample\u001b[38;5;241m.\u001b[39mgt_data:\n",
      "File \u001b[0;32m~/fbsource/fbcode/surreal/data_services/atek/atek/viz/atek_visualizer.py:391\u001b[0m, in \u001b[0;36mNativeAtekSampleVisualizer.plot_obb3_gt\u001b[0;34m(self, gt_dict, timestamp_ns, plot_color, suffix)\u001b[0m\n\u001b[1;32m    387\u001b[0m \u001b[38;5;28;01mfor\u001b[39;00m i_obj \u001b[38;5;129;01min\u001b[39;00m \u001b[38;5;28mrange\u001b[39m(num_obb3):\n\u001b[1;32m    388\u001b[0m     category_name \u001b[38;5;241m=\u001b[39m per_cam_dict[\u001b[38;5;124m\"\u001b[39m\u001b[38;5;124mcategory_names\u001b[39m\u001b[38;5;124m\"\u001b[39m][i_obj]\u001b[38;5;241m.\u001b[39msplit(\u001b[38;5;124m\"\u001b[39m\u001b[38;5;124m:\u001b[39m\u001b[38;5;124m\"\u001b[39m)[\u001b[38;5;241m0\u001b[39m]\n\u001b[1;32m    389\u001b[0m     \u001b[38;5;28;01mif\u001b[39;00m (\n\u001b[1;32m    390\u001b[0m         \u001b[38;5;28mself\u001b[39m\u001b[38;5;241m.\u001b[39mobb_labels_to_ignore\n\u001b[0;32m--> 391\u001b[0m         \u001b[38;5;129;01mand\u001b[39;00m \u001b[43mcategory_name\u001b[49m\u001b[43m \u001b[49m\u001b[38;5;129;43;01min\u001b[39;49;00m\u001b[43m \u001b[49m\u001b[38;5;28;43mself\u001b[39;49m\u001b[38;5;241;43m.\u001b[39;49m\u001b[43mobb_labels_to_ignore\u001b[49m\n\u001b[1;32m    392\u001b[0m     ):\n\u001b[1;32m    393\u001b[0m         \u001b[38;5;28;01mcontinue\u001b[39;00m\n\u001b[1;32m    394\u001b[0m     \u001b[38;5;28;01mif\u001b[39;00m (\n\u001b[1;32m    395\u001b[0m         \u001b[38;5;28mself\u001b[39m\u001b[38;5;241m.\u001b[39mobb_labels_to_include\n\u001b[1;32m    396\u001b[0m         \u001b[38;5;129;01mand\u001b[39;00m category_name \u001b[38;5;129;01mnot\u001b[39;00m \u001b[38;5;129;01min\u001b[39;00m \u001b[38;5;28mself\u001b[39m\u001b[38;5;241m.\u001b[39mobb_labels_to_include\n\u001b[1;32m    397\u001b[0m     ):\n",
      "File \u001b[0;32m~/miniconda3/envs/atek-examples/lib/python3.10/site-packages/omegaconf/listconfig.py:605\u001b[0m, in \u001b[0;36mListConfig.__contains__\u001b[0;34m(self, item)\u001b[0m\n\u001b[1;32m    603\u001b[0m lst \u001b[38;5;241m=\u001b[39m \u001b[38;5;28mself\u001b[39m\u001b[38;5;241m.\u001b[39m\u001b[38;5;18m__dict__\u001b[39m[\u001b[38;5;124m\"\u001b[39m\u001b[38;5;124m_content\u001b[39m\u001b[38;5;124m\"\u001b[39m]\n\u001b[1;32m    604\u001b[0m \u001b[38;5;28;01mfor\u001b[39;00m x \u001b[38;5;129;01min\u001b[39;00m lst:\n\u001b[0;32m--> 605\u001b[0m     x \u001b[38;5;241m=\u001b[39m \u001b[43mx\u001b[49m\u001b[38;5;241;43m.\u001b[39;49m\u001b[43m_dereference_node\u001b[49m\u001b[43m(\u001b[49m\u001b[43m)\u001b[49m\n\u001b[1;32m    606\u001b[0m     \u001b[38;5;28;01mif\u001b[39;00m x \u001b[38;5;241m==\u001b[39m item:\n\u001b[1;32m    607\u001b[0m         \u001b[38;5;28;01mreturn\u001b[39;00m \u001b[38;5;28;01mTrue\u001b[39;00m\n",
      "File \u001b[0;32m~/miniconda3/envs/atek-examples/lib/python3.10/site-packages/omegaconf/base.py:246\u001b[0m, in \u001b[0;36mNode._dereference_node\u001b[0;34m(self)\u001b[0m\n\u001b[1;32m    245\u001b[0m \u001b[38;5;28;01mdef\u001b[39;00m \u001b[38;5;21m_dereference_node\u001b[39m(\u001b[38;5;28mself\u001b[39m) \u001b[38;5;241m-\u001b[39m\u001b[38;5;241m>\u001b[39m \u001b[38;5;124m\"\u001b[39m\u001b[38;5;124mNode\u001b[39m\u001b[38;5;124m\"\u001b[39m:\n\u001b[0;32m--> 246\u001b[0m     node \u001b[38;5;241m=\u001b[39m \u001b[38;5;28;43mself\u001b[39;49m\u001b[38;5;241;43m.\u001b[39;49m\u001b[43m_dereference_node_impl\u001b[49m\u001b[43m(\u001b[49m\u001b[43mthrow_on_resolution_failure\u001b[49m\u001b[38;5;241;43m=\u001b[39;49m\u001b[38;5;28;43;01mTrue\u001b[39;49;00m\u001b[43m)\u001b[49m\n\u001b[1;32m    247\u001b[0m     \u001b[38;5;28;01massert\u001b[39;00m node \u001b[38;5;129;01mis\u001b[39;00m \u001b[38;5;129;01mnot\u001b[39;00m \u001b[38;5;28;01mNone\u001b[39;00m\n\u001b[1;32m    248\u001b[0m     \u001b[38;5;28;01mreturn\u001b[39;00m node\n",
      "File \u001b[0;32m~/miniconda3/envs/atek-examples/lib/python3.10/site-packages/omegaconf/base.py:265\u001b[0m, in \u001b[0;36mNode._dereference_node_impl\u001b[0;34m(self, throw_on_resolution_failure, memo)\u001b[0m\n\u001b[1;32m    260\u001b[0m \u001b[38;5;28;01mdef\u001b[39;00m \u001b[38;5;21m_dereference_node_impl\u001b[39m(\n\u001b[1;32m    261\u001b[0m     \u001b[38;5;28mself\u001b[39m,\n\u001b[1;32m    262\u001b[0m     throw_on_resolution_failure: \u001b[38;5;28mbool\u001b[39m,\n\u001b[1;32m    263\u001b[0m     memo: Optional[Set[\u001b[38;5;28mint\u001b[39m]] \u001b[38;5;241m=\u001b[39m \u001b[38;5;28;01mNone\u001b[39;00m,\n\u001b[1;32m    264\u001b[0m ) \u001b[38;5;241m-\u001b[39m\u001b[38;5;241m>\u001b[39m Optional[\u001b[38;5;124m\"\u001b[39m\u001b[38;5;124mNode\u001b[39m\u001b[38;5;124m\"\u001b[39m]:\n\u001b[0;32m--> 265\u001b[0m     \u001b[38;5;28;01mif\u001b[39;00m \u001b[38;5;129;01mnot\u001b[39;00m \u001b[38;5;28;43mself\u001b[39;49m\u001b[38;5;241;43m.\u001b[39;49m\u001b[43m_is_interpolation\u001b[49m\u001b[43m(\u001b[49m\u001b[43m)\u001b[49m:\n\u001b[1;32m    266\u001b[0m         \u001b[38;5;28;01mreturn\u001b[39;00m \u001b[38;5;28mself\u001b[39m\n\u001b[1;32m    268\u001b[0m     parent \u001b[38;5;241m=\u001b[39m \u001b[38;5;28mself\u001b[39m\u001b[38;5;241m.\u001b[39m_get_parent_container()\n",
      "File \u001b[0;32m~/miniconda3/envs/atek-examples/lib/python3.10/site-packages/omegaconf/nodes.py:114\u001b[0m, in \u001b[0;36mValueNode._is_interpolation\u001b[0;34m(self)\u001b[0m\n\u001b[1;32m    113\u001b[0m \u001b[38;5;28;01mdef\u001b[39;00m \u001b[38;5;21m_is_interpolation\u001b[39m(\u001b[38;5;28mself\u001b[39m) \u001b[38;5;241m-\u001b[39m\u001b[38;5;241m>\u001b[39m \u001b[38;5;28mbool\u001b[39m:\n\u001b[0;32m--> 114\u001b[0m     \u001b[38;5;28;01mreturn\u001b[39;00m \u001b[43m_is_interpolation\u001b[49m\u001b[43m(\u001b[49m\u001b[38;5;28;43mself\u001b[39;49m\u001b[38;5;241;43m.\u001b[39;49m\u001b[43m_value\u001b[49m\u001b[43m(\u001b[49m\u001b[43m)\u001b[49m\u001b[43m)\u001b[49m\n",
      "File \u001b[0;32m~/miniconda3/envs/atek-examples/lib/python3.10/site-packages/omegaconf/_utils.py:570\u001b[0m, in \u001b[0;36m_is_interpolation\u001b[0;34m(v, strict_interpolation_validation)\u001b[0m\n\u001b[1;32m    567\u001b[0m \u001b[38;5;28;01mdef\u001b[39;00m \u001b[38;5;21m_is_interpolation\u001b[39m(v: Any, strict_interpolation_validation: \u001b[38;5;28mbool\u001b[39m \u001b[38;5;241m=\u001b[39m \u001b[38;5;28;01mFalse\u001b[39;00m) \u001b[38;5;241m-\u001b[39m\u001b[38;5;241m>\u001b[39m \u001b[38;5;28mbool\u001b[39m:\n\u001b[1;32m    568\u001b[0m     \u001b[38;5;28;01mfrom\u001b[39;00m \u001b[38;5;21;01momegaconf\u001b[39;00m \u001b[38;5;28;01mimport\u001b[39;00m Node\n\u001b[0;32m--> 570\u001b[0m     \u001b[38;5;28;01mif\u001b[39;00m \u001b[38;5;28;43misinstance\u001b[39;49m\u001b[43m(\u001b[49m\u001b[43mv\u001b[49m\u001b[43m,\u001b[49m\u001b[43m \u001b[49m\u001b[43mNode\u001b[49m\u001b[43m)\u001b[49m:\n\u001b[1;32m    571\u001b[0m         v \u001b[38;5;241m=\u001b[39m v\u001b[38;5;241m.\u001b[39m_value()\n\u001b[1;32m    573\u001b[0m     \u001b[38;5;28;01mif\u001b[39;00m \u001b[38;5;28misinstance\u001b[39m(v, \u001b[38;5;28mstr\u001b[39m) \u001b[38;5;129;01mand\u001b[39;00m _is_interpolation_string(\n\u001b[1;32m    574\u001b[0m         v, strict_interpolation_validation\n\u001b[1;32m    575\u001b[0m     ):\n",
      "File \u001b[0;32m~/miniconda3/envs/atek-examples/lib/python3.10/abc.py:117\u001b[0m, in \u001b[0;36mABCMeta.__instancecheck__\u001b[0;34m(cls, instance)\u001b[0m\n\u001b[1;32m    111\u001b[0m \u001b[38;5;250m    \u001b[39m\u001b[38;5;124;03m\"\"\"Register a virtual subclass of an ABC.\u001b[39;00m\n\u001b[1;32m    112\u001b[0m \n\u001b[1;32m    113\u001b[0m \u001b[38;5;124;03m    Returns the subclass, to allow usage as a class decorator.\u001b[39;00m\n\u001b[1;32m    114\u001b[0m \u001b[38;5;124;03m    \"\"\"\u001b[39;00m\n\u001b[1;32m    115\u001b[0m     \u001b[38;5;28;01mreturn\u001b[39;00m _abc_register(\u001b[38;5;28mcls\u001b[39m, subclass)\n\u001b[0;32m--> 117\u001b[0m \u001b[38;5;28;01mdef\u001b[39;00m \u001b[38;5;21m__instancecheck__\u001b[39m(\u001b[38;5;28mcls\u001b[39m, instance):\n\u001b[1;32m    118\u001b[0m \u001b[38;5;250m    \u001b[39m\u001b[38;5;124;03m\"\"\"Override for isinstance(instance, cls).\"\"\"\u001b[39;00m\n\u001b[1;32m    119\u001b[0m     \u001b[38;5;28;01mreturn\u001b[39;00m _abc_instancecheck(\u001b[38;5;28mcls\u001b[39m, instance)\n",
      "\u001b[0;31mKeyboardInterrupt\u001b[0m: "
     ]
    }
   ],
   "source": [
    "# First, download json file from ATEK Data Store \n",
    "atek_json_path = os.path.join(data_dir, \"AriaSyntheticEnvironment_ATEK_download_urls.json\")\n",
    "if not os.path.exists(atek_json_path):\n",
    "    logger.error(\"Please download AriaDigitalTwin_ATEK_download_urls.json from ATEK Data Store\")\n",
    "    exit()\n",
    "\n",
    "# Second, parse into streamable yaml files\n",
    "create_streamable_yaml_command = [\n",
    "    \"python3\", f\"{atek_src_path}/tools/dataverse_url_parser.py\",\n",
    "    \"--config-name\",\"cubercnn\", \n",
    "    \"--input-json-path\",f\"{atek_json_path}\",\n",
    "    \"--output-folder-path\",f\"{data_dir}/test/\",\n",
    "    \"--max-num-sequences\", \"5\",\n",
    "    \"--train-val-split-ratio\", \"0.8\"\n",
    "]\n",
    "return_code = run_command_and_display_output(create_streamable_yaml_command)\n",
    "\n",
    "# Create ATEK data loader from streamable yaml file\n",
    "tar_file_urls = load_yaml_and_extract_tar_list(yaml_path = os.path.join(data_dir, \"streamable_yamls\", \"streamable_validation_tars.yaml\"))\n",
    "atek_dataloader = create_native_atek_dataloader(urls = tar_file_urls, batch_size=None, repeat_flag=False)\n",
    "\n",
    "# Visualize ATEK WDS files in streaming mode\n",
    "atek_visualizer = NativeAtekSampleVisualizer(viz_prefix = \"dataloading_visualizer\", conf = viz_conf)\n",
    "for atek_sample_dict in atek_dataloader:\n",
    "    atek_visualizer.plot_atek_sample_as_dict(atek_sample_dict)"
   ]
  },
  {
   "cell_type": "markdown",
   "id": "af42fccc-302b-4d5a-ae09-f51c1c44b8fa",
   "metadata": {},
   "source": [
    "## Part 2: ATEK Training example with CubeRCNN\n",
    "User can call our `tools/train_cubercnn.py` script to do a mini-scale training on downloaded data. We will run this on my local machine for a mini demonstration.  \n",
    "\n",
    "Core code snippets in the script (check out the script for full details): \n",
    "```\n",
    "model.train()\n",
    "tar_file_urls = load_yaml_and_extract_tar_list(train_list_yaml)\n",
    "data_loader = create_atek_dataloader_as_cubercnn(urls = tar_file_urls, ...)\\\n",
    "\n",
    "# Loop over cubercnn-format data samples\n",
    "for sample_data in data_loader:\n",
    "    # Training step\n",
    "    loss_dict = model(data)\n",
    "    losses = sum(loss_dict.values())\n",
    "    optimizer.zero_grad()\n",
    "    losses.backward()\n",
    "    optimizer.step()\n",
    "    ...\n",
    "```"
   ]
  },
  {
   "cell_type": "code",
   "execution_count": null,
   "id": "7f3c78f8-b66c-473b-a1e0-4f3ab4541b3e",
   "metadata": {},
   "outputs": [],
   "source": [
    "# Example training command\n",
    "mini_training_command = [\n",
    "  f\"python\",f\"{atek_src_path}/tools/train_cubercnn.py\",\n",
    "  \"--config-file\",f\"{data_dir}/cubercnn_train_config_mini_example.yaml\",\n",
    "  \"--num-gpus\", \"1\", \n",
    "  \"OUTPUT_DIR\", f\"{data_dir}/mini_test_1\",\n",
    "  \"TRAIN_LIST\",f\"{data_dir}/streamable_yamls/streamable_train_tars.yaml\",\n",
    "  \"TEST_LIST\", f\"{data_dir}/streamable_yamls/streamable_validation_tars.yaml\", \n",
    "  \"CATEGORY_JSON\", f\"{atek_src_path}/data/atek_id_to_name.json\",\n",
    "  \"ID_MAP_JSON\", f\"{atek_src_path}/data/atek_name_to_id.json\", \n",
    "  \"MODEL.WEIGHTS_PRETRAIN\", f\"/home/louy/Calibration_data_link/Atek/cubercnn_DLA34_FPN.pth\"\n",
    "]\n",
    "return_code = run_command_and_display_output(mini_training_command)"
   ]
  },
  {
   "cell_type": "code",
   "execution_count": null,
   "id": "53c43179-decf-41a4-911c-610424a4a6f0",
   "metadata": {},
   "outputs": [],
   "source": [
    "# Inspect training progress using tensorboard\n",
    "tensorboard_command = [\"tensorboard\", f\"--logdir={workdir}/mini_test_1\", \"--port\", \"6007\", \"--samples_per_plugin=images=1000\"]\n",
    "return_code = run_command_and_display_output(tensorboard_command)"
   ]
  }
 ],
 "metadata": {
  "kernelspec": {
   "display_name": "Python 3 (ipykernel)",
   "language": "python",
   "name": "python3"
  },
  "language_info": {
   "codemirror_mode": {
    "name": "ipython",
    "version": 3
   },
   "file_extension": ".py",
   "mimetype": "text/x-python",
   "name": "python",
   "nbconvert_exporter": "python",
   "pygments_lexer": "ipython3",
   "version": "3.10.14"
  }
 },
 "nbformat": 4,
 "nbformat_minor": 5
}
