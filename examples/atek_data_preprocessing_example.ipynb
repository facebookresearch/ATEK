{
 "cells": [
  {
   "cell_type": "markdown",
   "id": "82a69859-442d-483a-b02e-8c4838d2710f",
   "metadata": {},
   "source": [
    "# ATEK Data Proprocessing Example"
   ]
  },
  {
   "cell_type": "markdown",
   "id": "62b4b568-7d51-4694-850c-4a361e8c84eb",
   "metadata": {},
   "source": [
    "### 1. Load the example adt data"
   ]
  },
  {
   "cell_type": "code",
   "execution_count": null,
   "id": "a13881e7-5b10-4f2e-ba61-71137b6ee6a8",
   "metadata": {
    "tags": []
   },
   "outputs": [],
   "source": [
    "example_adt_data_path = \"/source/data/atek/adt_raw/Apartment_release_golden_skeleton_seq100_10s_sample\"\n",
    "\n",
    "from projectaria_tools.projects.adt import (\n",
    "   AriaDigitalTwinDataProvider,\n",
    "   AriaDigitalTwinDataPathsProvider\n",
    ")\n",
    "\n",
    "paths_provider = AriaDigitalTwinDataPathsProvider(example_adt_data_path)\n",
    "all_device_serials = paths_provider.get_device_serial_numbers()\n",
    "\n",
    "selected_device_number = 0\n",
    "data_paths = paths_provider.get_datapaths_by_device_num(selected_device_number)"
   ]
  },
  {
   "cell_type": "markdown",
   "id": "a409b491-bc00-4b10-bc66-30c649c51ae3",
   "metadata": {},
   "source": [
    "### 2. Frame data processor exmaple"
   ]
  },
  {
   "cell_type": "code",
   "execution_count": null,
   "id": "ef6a1200-32d4-4ff9-beb6-76c3c18b4d76",
   "metadata": {
    "tags": []
   },
   "outputs": [],
   "source": [
    "from projectaria_tools.core import calibration, data_provider\n",
    "from atek.data_preprocess.frame_data_processor import FrameDataProcessor\n",
    "from atek.data_preprocess.pose_data_processor import PoseDataProcessor\n",
    "from projectaria_tools.core.stream_id import StreamId\n",
    "from atek.data_preprocess.adt_gt_data_processor import AdtGtDataProcessor\n",
    "import numpy as np\n",
    "\n",
    "rgb_adt_gt_data_processor = AdtGtDataProcessor(\"adt_gt\", \"ADT\", StreamId(\"214-1\"), data_paths)\n",
    "slaml_adt_gt_data_processor = AdtGtDataProcessor(\"adt_gt\", \"ADT\", StreamId(\"1201-1\"), data_paths)\n",
    "slamr_adt_gt_data_processor = AdtGtDataProcessor(\"adt_gt\", \"ADT\", StreamId(\"1201-2\"), data_paths)\n",
    "\n",
    "pose_data_processor = PoseDataProcessor(\n",
    "    name = \"pose\",\n",
    "    trajectory_file = data_paths.aria_trajectory_filepath,\n",
    ")\n",
    "\n",
    "rotate_image_cw90deg=True\n",
    "\n",
    "rgb_data_processor = FrameDataProcessor(\n",
    "    video_vrs=data_paths.aria_vrs_filepath,\n",
    "    stream_id=StreamId(\"214-1\"),\n",
    "    rotate_image_cw90deg = rotate_image_cw90deg,\n",
    "    target_linear_camera_params = np.array([512,512]), # None means use the orignal image\n",
    "    pose_data_processor = pose_data_processor,\n",
    "    gt_data_processor = rgb_adt_gt_data_processor,\n",
    ")\n",
    "\n",
    "slaml_data_processor = FrameDataProcessor(\n",
    "    video_vrs=data_paths.aria_vrs_filepath,\n",
    "    stream_id=StreamId(\"1201-1\"),\n",
    "    rotate_image_cw90deg = rotate_image_cw90deg,\n",
    "    target_linear_camera_params = np.array([320,240]),\n",
    "    pose_data_processor = pose_data_processor,\n",
    "    gt_data_processor = slaml_adt_gt_data_processor,\n",
    ")\n",
    "\n",
    "slamr_data_processor = FrameDataProcessor(\n",
    "    video_vrs=data_paths.aria_vrs_filepath,\n",
    "    stream_id=StreamId(\"1201-2\"),\n",
    "    rotate_image_cw90deg = rotate_image_cw90deg,\n",
    "    target_linear_camera_params = np.array([320,240]),\n",
    "    pose_data_processor = pose_data_processor,\n",
    "    gt_data_processor = slamr_adt_gt_data_processor,\n",
    ")\n",
    "\n",
    "# Print the frame dataclass keys\n",
    "rgb_image_frame = rgb_data_processor.get_frame_by_index(30)\n",
    "from dataclasses import asdict\n",
    "print(asdict(rgb_image_frame).keys())\n",
    "\n",
    "\n",
    "# Visualize one frame of undistorted 2d bounding boxes\n",
    "import matplotlib.pyplot as plt\n",
    "import matplotlib.patches as patches\n",
    "\n",
    "from projectaria_tools.projects.adt import (\n",
    "    bbox2d_to_image_coordinates,\n",
    ")\n",
    "\n",
    "\n",
    "fig, ax = plt.subplots(figsize=(10, 10))\n",
    "plt.imshow(rgb_image_frame.image)\n",
    "\n",
    "for bb2d in rgb_image_frame.bb2ds:\n",
    "    image_coords = bbox2d_to_image_coordinates(bb2d)\n",
    "    rect = patches.Polygon(image_coords, closed=True, fill=False, edgecolor='r')\n",
    "\n",
    "    # Add the patch to the axes\n",
    "    ax.add_patch(rect)"
   ]
  },
  {
   "cell_type": "markdown",
   "id": "cde051af-5ce6-48ba-83ba-24620c328568",
   "metadata": {},
   "source": [
    "### 3. Frameset Example"
   ]
  },
  {
   "cell_type": "code",
   "execution_count": null,
   "id": "d1d52796-2d0f-48e9-a502-41e17b3e5cb6",
   "metadata": {
    "tags": []
   },
   "outputs": [],
   "source": [
    "from atek.data_preprocess.frameset_aligner import FramesetAligner\n",
    "\n",
    "frame_data_processors = [rgb_data_processor, slaml_data_processor, slamr_data_processor]\n",
    "\n",
    "frameset_aligner = FramesetAligner(\n",
    "    target_hz = 10,\n",
    "    frame_data_processors = frame_data_processors, \n",
    "    pose_data_processor = pose_data_processor,\n",
    "    require_objects = True)\n",
    "\n",
    "frameset = frameset_aligner.get_frameset_by_index(10)\n",
    "print(asdict(frameset).keys())\n",
    "\n",
    "\n",
    "# Visualize one frameset\n",
    "fig, ax = plt.subplots(1,3, figsize=(30, 10))\n",
    "\n",
    "for i, frame in enumerate(frameset.frames):\n",
    "    if frame.image.ndim == 2:\n",
    "        ax[i].imshow(frame.image, cmap='gray')\n",
    "    else:\n",
    "        ax[i].imshow(frame.image)\n",
    "\n",
    "    for bb2d in frame.bb2ds:\n",
    "        image_coords = bbox2d_to_image_coordinates(bb2d)\n",
    "        rect = patches.Polygon(image_coords, closed=True, fill=False, edgecolor='r')\n",
    "\n",
    "        # Add the patch to the axes\n",
    "        ax[i].add_patch(rect)"
   ]
  },
  {
   "cell_type": "markdown",
   "id": "63476586-e773-451e-bcc3-31e48b62112f",
   "metadata": {},
   "source": [
    "### 4. Frameset Group"
   ]
  },
  {
   "cell_type": "code",
   "execution_count": null,
   "id": "9510e64d-d83d-4a26-bf02-e19faa1fa6a3",
   "metadata": {
    "tags": []
   },
   "outputs": [],
   "source": [
    "from atek.data_preprocess.frameset_group_generator import FramesetGroupGenerator, FramesetSelectionConfig\n",
    "\n",
    "frameset_selection_config = FramesetSelectionConfig(\n",
    "    num_framesets_per_group=3,\n",
    "    skip_first_n_framesets=0,\n",
    "    skip_last_n_framesets=0,\n",
    "    stride=1,\n",
    "    time_duration_ns_threshold=None,\n",
    "    translation_m_threshold=None,\n",
    "    rotation_deg_threshold=None,\n",
    "    fov_overlapping_ratio_threshold=None,\n",
    "    far_clipping_distance=4.0,\n",
    "    local_selection=0,\n",
    ")\n",
    "\n",
    "frameset_group_generator = FramesetGroupGenerator(frameset_aligner=frameset_aligner, \n",
    "    frameset_selection_config=frameset_selection_config, \n",
    "    require_objects=True)\n",
    "\n",
    "fg = frameset_group_generator.get_frameset_group_by_index(10)\n",
    "print(asdict(fg).keys())\n",
    "\n",
    "# Visualize a frameset group\n",
    "n = len(fg.framesets)\n",
    "fig, ax = plt.subplots(n,3, figsize=(30, 30))\n",
    "plt.tight_layout()\n",
    "for i, frameset in enumerate(fg.framesets):\n",
    "    for j, frame in enumerate(frameset.frames):\n",
    "        if frame.image.ndim == 2:\n",
    "            ax[i][j].imshow(frame.image, cmap='gray')\n",
    "        else:\n",
    "            ax[i][j].imshow(frame.image)\n",
    "\n",
    "        for bb2d in frame.bb2ds:\n",
    "            image_coords = bbox2d_to_image_coordinates(bb2d)\n",
    "            rect = patches.Polygon(image_coords, closed=True, fill=False, edgecolor='r')\n",
    "\n",
    "            # Add the patch to the axes\n",
    "            ax[i][j].add_patch(rect)"
   ]
  },
  {
   "cell_type": "markdown",
   "id": "e2a0c1dc-1bfc-4470-93f9-e08d51d763dc",
   "metadata": {},
   "source": [
    "### 5. Write wds files"
   ]
  },
  {
   "cell_type": "code",
   "execution_count": null,
   "id": "94c877c6-862e-4d59-8e3e-2a829d26e161",
   "metadata": {
    "tags": []
   },
   "outputs": [],
   "source": [
    "from atek.data_preprocess.webdataset_writer import (\n",
    "    DataSelectionSettings,\n",
    "    convert_frameset_group_to_wds_dict,\n",
    "    AtekWdsWriter,\n",
    ")\n",
    "\n",
    "settings = DataSelectionSettings(\n",
    "    require_traj_for_frame = True,\n",
    "    require_obb2d_gt_for_frame = True,\n",
    "    require_obb3d_gt_for_frame = True,\n",
    "    require_traj_for_frameset = True,\n",
    "    require_obb3d_gt_for_frameset = True,\n",
    "    require_traj_for_frameset_group = True,\n",
    "    require_obb3d_gt_for_frameset_group = True,\n",
    ")\n",
    "\n",
    "wds_dict = convert_frameset_group_to_wds_dict(0, fg, settings)\n",
    "\n",
    "atek_wds_writer = AtekWdsWriter(\"/tmp/test_wds\", settings, 32, None)\n",
    "\n",
    "num_samples = 4\n",
    "for i in range(min(num_samples, frameset_group_generator.frameset_group_number())):\n",
    "    fg = frameset_group_generator.get_frameset_group_by_index(i)\n",
    "    atek_wds_writer.add_sample(fg)\n",
    "\n",
    "atek_wds_writer.close()"
   ]
  }
 ],
 "metadata": {
  "kernelspec": {
   "display_name": "Python 3 (ipykernel)",
   "language": "python",
   "name": "python3"
  },
  "language_info": {
   "codemirror_mode": {
    "name": "ipython",
    "version": 3
   },
   "file_extension": ".py",
   "mimetype": "text/x-python",
   "name": "python",
   "nbconvert_exporter": "python",
   "pygments_lexer": "ipython3",
   "version": "3.9.18"
  }
 },
 "nbformat": 4,
 "nbformat_minor": 5
}
