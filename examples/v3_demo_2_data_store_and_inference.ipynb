{
 "cells": [
  {
   "cell_type": "markdown",
   "id": "83833fa4-ac23-4fca-925b-2a86fee8d267",
   "metadata": {},
   "source": [
    "# Demo 2: ATEK Data Store and Model Inference"
   ]
  },
  {
   "cell_type": "code",
   "execution_count": 1,
   "id": "b0b9592a-dc1e-49ec-8a46-81ee3fa23470",
   "metadata": {},
   "outputs": [],
   "source": [
    "import faulthandler\n",
    "\n",
    "import logging\n",
    "import os\n",
    "from logging import StreamHandler\n",
    "import numpy as np\n",
    "from typing import Dict, List, Optional\n",
    "import torch\n",
    "import sys\n",
    "import subprocess\n",
    "from itertools import islice\n",
    "from tqdm import tqdm\n",
    "\n",
    "from atek.viz.atek_visualizer import NativeAtekSampleVisualizer\n",
    "from atek.data_loaders.atek_wds_dataloader import (\n",
    "    create_native_atek_dataloader\n",
    ")\n",
    "from atek.data_loaders.cubercnn_model_adaptor import (\n",
    "    cubercnn_collation_fn,\n",
    "    create_atek_dataloader_as_cubercnn\n",
    ")\n",
    "from atek.util.file_io_utils import load_yaml_and_extract_tar_list\n",
    "\n",
    "from cubercnn.config import get_cfg_defaults\n",
    "from cubercnn.modeling.backbone import build_dla_from_vision_fpn_backbone  # noqa\n",
    "from cubercnn.modeling.meta_arch import build_model  # noqa\n",
    "from detectron2.checkpoint import DetectionCheckpointer\n",
    "from detectron2.config import get_cfg\n",
    "from omegaconf import OmegaConf\n",
    "\n",
    "faulthandler.enable()\n",
    "\n",
    "# Configure logging to display the log messages in the notebook\n",
    "logging.basicConfig(\n",
    "    level=logging.INFO,\n",
    "    format='%(asctime)s - %(levelname)s - %(message)s',\n",
    "    handlers=[\n",
    "        logging.StreamHandler(sys.stdout)\n",
    "    ]\n",
    ")\n",
    "\n",
    "logger = logging.getLogger()\n",
    "\n",
    "\n",
    "# -------------------- Helper functions --------------------#\n",
    "def run_command_and_display_output(command):\n",
    "    # Start the process\n",
    "    process = subprocess.Popen(command, stdout=subprocess.PIPE, stderr=subprocess.STDOUT, text=True)\n",
    "\n",
    "    # Poll process.stdout to show stdout live\n",
    "    while True:\n",
    "        output = process.stdout.readline()\n",
    "        if output == '' and process.poll() is not None:\n",
    "            break\n",
    "        if output:\n",
    "            print(output.strip())\n",
    "    rc = process.poll()\n",
    "    return rc\n",
    "\n",
    "def create_inference_model(config_file, ckpt_dir, use_cpu_only=False):\n",
    "    \"\"\"\n",
    "    Create the model for inference pipeline, with the model config.\n",
    "    \"\"\"\n",
    "    # Create default model configuration\n",
    "    model_config = get_cfg()\n",
    "    get_cfg_defaults(model_config)\n",
    "\n",
    "    # add extra configs for data\n",
    "    model_config.MAX_TRAINING_ATTEMPTS = 3\n",
    "    model_config.TRAIN_LIST = \"\"\n",
    "    model_config.TEST_LIST = \"\"\n",
    "    model_config.TRAIN_WDS_DIR = \"\"\n",
    "    model_config.TEST_WDS_DIR = \"\"\n",
    "    model_config.ID_MAP_JSON = \"\"\n",
    "    model_config.OBJ_PROP_JSON = \"\"\n",
    "    model_config.CATEGORY_JSON = \"\"\n",
    "    model_config.DATASETS.OBJECT_DETECTION_MODE = \"\"\n",
    "    model_config.SOLVER.VAL_MAX_ITER = 0\n",
    "    model_config.SOLVER.MAX_EPOCH = 0\n",
    "\n",
    "    model_config.merge_from_file(config_file)\n",
    "    if use_cpu_only:\n",
    "        model_config.MODEL.DEVICE = \"cpu\"\n",
    "    model_config.freeze()\n",
    "\n",
    "    model = build_model(model_config, priors=None)\n",
    "\n",
    "    _ = DetectionCheckpointer(model, save_dir=ckpt_dir).resume_or_load(\n",
    "        model_config.MODEL.WEIGHTS, resume=True\n",
    "    )\n",
    "    model.eval()\n",
    "\n",
    "    return model_config, model"
   ]
  },
  {
   "cell_type": "markdown",
   "id": "905d7646-847d-4520-a462-a0c583334ba0",
   "metadata": {},
   "source": [
    "### Setup data and code path"
   ]
  },
  {
   "cell_type": "code",
   "execution_count": 2,
   "id": "76b3b589-91df-4584-8448-421d2982826d",
   "metadata": {},
   "outputs": [],
   "source": [
    "data_dir = \"/home/louy/Calibration_data_link/Atek/2024_08_05_DryRun\"\n",
    "atek_src_path = os.path.join(os.path.expanduser(\"~\"), \"atek_on_fbsource\")\n",
    "data_store_viz_conf = OmegaConf.load(os.path.join(data_dir, \"data_store_viz_conf.yaml\"))\n",
    "infer_viz_conf = OmegaConf.load(os.path.join(data_dir, \"infer_viz_conf.yaml\"))\n",
    "\n",
    "# Set up trained model weight path\n",
    "model_ckpt_path = \"/home/louy/Calibration_data_link/Atek/pre_trained_models/2024_08_28_AdtCubercnnWeights\""
   ]
  },
  {
   "cell_type": "markdown",
   "id": "66d1cabf-1e97-4aef-a054-9cb13da704ca",
   "metadata": {},
   "source": [
    "## Part 1: ATEK Data Store\n",
    "**Before ATEK**: user needs to set up their own preprocessing, and run through large datasets. **time- & resource- consuming** (14 days for 10K seqs). \n",
    "\n",
    "**With ATEK**: preprocessed Aria datasets hosted on **ATEK Data Store**:  \n",
    "1. [Option 1] Download to local.\n",
    "2. [Option 2] Stream over internet.\n",
    "\n",
    "Streaming example below: "
   ]
  },
  {
   "cell_type": "code",
   "execution_count": 3,
   "id": "626aa825-5659-4c69-bbde-5815f2435434",
   "metadata": {},
   "outputs": [
    {
     "name": "stdout",
     "output_type": "stream",
     "text": [
      "Traceback (most recent call last):\n",
      "File \"/home/louy/atek_on_fbsource/tools/dataverse_url_parser.py\", line 367, in <module>\n",
      "main(\n",
      "File \"/home/louy/atek_on_fbsource/tools/dataverse_url_parser.py\", line 237, in main\n",
      "assert (\n",
      "AssertionError: Output folder /home/louy/Calibration_data_link/Atek/2024_08_05_DryRun/streamable_yamls/ already exists.\n",
      "2024-09-11 21:53:15,408 - INFO - Streamable yaml files created under f/home/louy/Calibration_data_link/Atek/2024_08_05_DryRun/streamable_yamls/\n"
     ]
    }
   ],
   "source": [
    "# First, download json file from ATEK Data Store\n",
    "atek_json_path = os.path.join(data_dir, \"AriaDigitalTwin_ATEK_download_urls.json\")\n",
    "if not os.path.exists(atek_json_path):\n",
    "    logger.error(\"Please download AriaDigitalTwin_ATEK_download_urls.json from ATEK Data Store\")\n",
    "    exit()\n",
    "\n",
    "# Second, parse into streamable yaml files\n",
    "create_streamable_yaml_command = [\n",
    "    \"python3\", f\"{atek_src_path}/tools/dataverse_url_parser.py\",\n",
    "    \"--config-name\",\"cubercnn\",\n",
    "    \"--input-json-path\",f\"{atek_json_path}\",\n",
    "    \"--output-folder-path\",f\"{data_dir}/streamable_yamls/\",\n",
    "    \"--max-num-sequences\", \"5\",\n",
    "    \"--train-val-split-ratio\", \"0.8\"\n",
    "]\n",
    "return_code = run_command_and_display_output(create_streamable_yaml_command)\n",
    "\n",
    "logger.info(f\"Streamable yaml files created under f{data_dir}/streamable_yamls/\")"
   ]
  },
  {
   "cell_type": "markdown",
   "id": "b2b6d276-db1c-405a-ab4d-c69d2c5061bc",
   "metadata": {},
   "source": [
    "# Part 2: Run Object detection inference using pre-trained CubeRCNN model\n",
    "In this example, we demonstrate how to run model inference with preprocessed ATEK data streamed from Data Store. "
   ]
  },
  {
   "cell_type": "markdown",
   "id": "1c2eba64-b52e-4350-a10e-38d2164ce806",
   "metadata": {},
   "source": [
    "### Create a PyTorch DataLoader from ATEK WDS files\n",
    "Load WDS files as ATEK format: "
   ]
  },
  {
   "cell_type": "code",
   "execution_count": 4,
   "id": "c26fda62-a8f9-4f16-ba0e-c598ae8e177b",
   "metadata": {},
   "outputs": [
    {
     "name": "stderr",
     "output_type": "stream",
     "text": [
      "/home/louy/miniconda3/envs/atek/lib/python3.9/site-packages/webdataset/compat.py:136: UserWarning: WebDataset(shardshuffle=...) is None; set explicitly to False or a number\n",
      "  warnings.warn(\"WebDataset(shardshuffle=...) is None; set explicitly to False or a number\")\n"
     ]
    },
    {
     "name": "stdout",
     "output_type": "stream",
     "text": [
      "2024-09-11 21:53:32,070 - INFO - Loading WDS into ATEK native format, each sample contains the following keys: dict_keys(['__key__', '__url__', 'gt_data', 'mfcd#camera-rgb+camera_label', 'mfcd#camera-rgb+camera_model_name', 'mfcd#camera-rgb+capture_timestamps_ns', 'mfcd#camera-rgb+exposure_durations_s', 'mfcd#camera-rgb+frame_ids', 'mfcd#camera-rgb+gains', 'mfcd#camera-rgb+origin_camera_label', 'mfcd#camera-rgb+projection_params', 'mfcd#camera-rgb+t_device_camera', 'mtd#capture_timestamps_ns', 'mtd#gravity_in_world', 'mtd#ts_world_device', 'sequence_name', 'mfcd#camera-rgb+images'])\n"
     ]
    }
   ],
   "source": [
    "# create ATEK dataloader with native ATEK format.\n",
    "tar_file_urls = load_yaml_and_extract_tar_list(yaml_path = os.path.join(data_dir, \"streamable_yamls\", \"streamable_validation_tars.yaml\"))\n",
    "# tar_file_urls = load_yaml_and_extract_tar_list(yaml_path = os.path.join(data_dir, \"downloaded_local_wds_adt\", \"local_all_tars.yaml\"))\n",
    "\n",
    "atek_dataloader = create_native_atek_dataloader(urls = tar_file_urls, batch_size = None, num_workers = 1)\n",
    "first_atek_sample = next(iter(atek_dataloader))\n",
    "logger.info(f\"Loading WDS into ATEK native format, each sample contains the following keys: {first_atek_sample.keys()}\")"
   ]
  },
  {
   "cell_type": "markdown",
   "id": "0989961b-7bd8-47d2-90d4-cf1261c1faf3",
   "metadata": {},
   "source": [
    "### Create PyTorch DataLoader, converted to CubeRCNN format\n",
    "User can add a data transform function from ATEK format -> CubeRCNN format: \n",
    "1. Dict key remapping.\n",
    "2. Tensor reshaping & reordering. \n",
    "3. Other data transformations.\n",
    "\n",
    "Example data transform function for CubeRCNN model: [src code](https://www.internalfb.com/code/fbsource/[a5c3831c045bc718862d1c512e84d4ed6f79d722]/fbcode/surreal/data_services/atek/atek/data_loaders/cubercnn_model_adaptor.py?lines=44-74)"
   ]
  },
  {
   "cell_type": "code",
   "execution_count": 5,
   "id": "19b5e321-9557-4a82-996b-dffa4bf5caaa",
   "metadata": {},
   "outputs": [
    {
     "name": "stdout",
     "output_type": "stream",
     "text": [
      "2024-09-11 21:54:28,175 - INFO - Loading WDS into CubeRCNN format, each sample contains the following keys: dict_keys(['image', 'K', 'height', 'width', 'K_matrix', 'timestamp_ns', 'frame_id', 'sequence_name', 'T_world_camera', 'instances', 'Ts_world_object', 'object_dimensions', 'category'])\n"
     ]
    }
   ],
   "source": [
    "cubercnn_dataloader = create_atek_dataloader_as_cubercnn(urls = tar_file_urls, batch_size = 6, num_workers = 1)\n",
    "first_cubercnn_sample = next(iter(cubercnn_dataloader))\n",
    "logger.info(f\"Loading WDS into CubeRCNN format, each sample contains the following keys: {first_cubercnn_sample[0].keys()}\")"
   ]
  },
  {
   "cell_type": "markdown",
   "id": "9a0bef5e-991e-4230-928f-85bd92168ae1",
   "metadata": {},
   "source": [
    "### Run model inference"
   ]
  },
  {
   "cell_type": "code",
   "execution_count": 6,
   "id": "2cfb653f-661f-4a3f-a3e5-562037bd102d",
   "metadata": {},
   "outputs": [
    {
     "name": "stdout",
     "output_type": "stream",
     "text": [
      "2024-09-11 21:54:54,266 - INFO - [DetectionCheckpointer] Loading from /home/louy/Calibration_data_link/Atek/pre_trained_models/2024_08_28_AdtCubercnnWeights/model_final.pth ...\n",
      "2024-09-11 21:54:54,267 - INFO - [Checkpointer] Loading from /home/louy/Calibration_data_link/Atek/pre_trained_models/2024_08_28_AdtCubercnnWeights/model_final.pth ...\n"
     ]
    },
    {
     "name": "stderr",
     "output_type": "stream",
     "text": [
      "Inference progress: : 0it [00:00, ?it/s]/home/louy/miniconda3/envs/atek/lib/python3.9/site-packages/torch/functional.py:512: UserWarning: torch.meshgrid: in an upcoming release, it will be required to pass the indexing argument. (Triggered internally at /opt/conda/conda-bld/pytorch_1714328523881/work/aten/src/ATen/native/TensorShape.cpp:3587.)\n",
      "  return _VF.meshgrid(tensors, **kwargs)  # type: ignore[attr-defined]\n",
      "Inference progress: : 5it [00:06,  1.33s/it]"
     ]
    },
    {
     "name": "stdout",
     "output_type": "stream",
     "text": [
      "2024-09-11 21:55:01,157 - INFO - Inference completed.\n"
     ]
    },
    {
     "name": "stderr",
     "output_type": "stream",
     "text": [
      "\n"
     ]
    }
   ],
   "source": [
    "from tqdm import tqdm\n",
    "\n",
    "# load pre-trained CubeRCNN model\n",
    "model_config_file = os.path.join(model_ckpt_path, \"config.yaml\")\n",
    "conf = OmegaConf.load(model_config_file)\n",
    "\n",
    "# setup config and model\n",
    "model_config, model = create_inference_model(\n",
    "    model_config_file, model_ckpt_path, False\n",
    ")\n",
    "\n",
    "\n",
    "# Cache inference results for visualization\n",
    "input_output_data_pairs = []\n",
    "\n",
    "# Loop over created Pytorch Dataloader, only 5 batches for demonstration\n",
    "with torch.no_grad():\n",
    "    for cubercnn_input_data in tqdm(\n",
    "       islice(cubercnn_dataloader, 5),\n",
    "        desc=\"Inference progress: \",\n",
    "    ):\n",
    "        cubercnn_model_output = model(cubercnn_input_data)\n",
    "\n",
    "        # cache inference results for visualization\n",
    "        input_output_data_pairs.append((cubercnn_input_data, cubercnn_model_output))\n",
    "\n",
    "logger.info(\"Inference completed.\")"
   ]
  },
  {
   "cell_type": "markdown",
   "id": "de1a5b42-d19f-458b-9af4-7c120fe2bec2",
   "metadata": {},
   "source": [
    "### Visualize inference results"
   ]
  },
  {
   "cell_type": "code",
   "execution_count": 7,
   "id": "dc94f96a-5c34-440d-9f8e-a4a8cf67c4f4",
   "metadata": {},
   "outputs": [
    {
     "name": "stdout",
     "output_type": "stream",
     "text": [
      "2024-09-11 21:55:01,454 - INFO - Visualizing inference results.\n"
     ]
    },
    {
     "name": "stderr",
     "output_type": "stream",
     "text": [
      "[2024-09-12T04:55:01Z INFO  re_sdk_comms::server] Hosting a SDK server over TCP at 0.0.0.0:9876. Connect with the Rerun logging SDK.\n",
      "[2024-09-12T04:55:01Z INFO  winit::platform_impl::platform::x11::window] Guessed window scale factor: 1\n",
      "[2024-09-12T04:55:01Z WARN  wgpu_hal::gles::adapter] Detected skylake derivative running on mesa i915. Clears to srgb textures will use manual shader clears.\n",
      "[2024-09-12T04:55:01Z INFO  re_sdk_comms::server] New SDK client connected from: 127.0.0.1:41398\n",
      "[2024-09-12T04:55:01Z WARN  wgpu_hal::gles::adapter] Detected skylake derivative running on mesa i915. Clears to srgb textures will use manual shader clears.\n",
      "[2024-09-12T04:55:01Z INFO  egui_wgpu] There were 4 available wgpu adapters: {backend: Vulkan, device_type: IntegratedGpu, name: \"Intel(R) UHD Graphics (TGL GT1)\", driver: \"Intel open-source Mesa driver\", driver_info: \"Mesa 24.1.6\", vendor: 0x8086, device: 0x9A60}, {backend: Vulkan, device_type: DiscreteGpu, name: \"NVIDIA GeForce RTX 3070 Laptop GPU\", driver: \"NVIDIA\", driver_info: \"555.58.02\", vendor: 0x10DE, device: 0x249D}, {backend: Vulkan, device_type: Cpu, name: \"llvmpipe (LLVM 18.1.6, 256 bits)\", driver: \"llvmpipe\", driver_info: \"Mesa 24.1.6 (LLVM 18.1.6)\", vendor: 0x10005}, {backend: Gl, device_type: IntegratedGpu, name: \"Mesa Intel(R) UHD Graphics (TGL GT1)\", driver: \"OpenGL\", driver_info: \"4.6 (Compatibility Profile) Mesa 24.1.7\", vendor: 0x8086}\n"
     ]
    }
   ],
   "source": [
    "from atek.viz.cubercnn_visualizer import CubercnnVisualizer\n",
    "\n",
    "# Visualize cached inference results\n",
    "logger.info(\"Visualizing inference results.\")\n",
    "cubercnn_visualizer = CubercnnVisualizer(viz_prefix = \"inference_visualizer\", conf = infer_viz_conf)\n",
    "for input_data_as_list, output_data_as_list in input_output_data_pairs:\n",
    "    for single_cubercnn_input, single_cubercnn_output in zip(input_data_as_list, output_data_as_list):\n",
    "        timestamp_ns = single_cubercnn_input[\"timestamp_ns\"]\n",
    "        # Plot RGB image\n",
    "        cubercnn_visualizer.plot_cubercnn_img(single_cubercnn_input[\"image\"], timestamp_ns = timestamp_ns)\n",
    "\n",
    "        # Plot GT and prediction in different colors\n",
    "        single_cubercnn_output[\"T_world_camera\"] = single_cubercnn_input[\"T_world_camera\"] # This patch is needed for visualization\n",
    "        cubercnn_visualizer.plot_cubercnn_dict(cubercnn_dict = single_cubercnn_input, timestamp_ns = timestamp_ns, plot_color = cubercnn_visualizer.COLOR_GREEN, suffix = \"_model_input\")\n",
    "        cubercnn_visualizer.plot_cubercnn_dict(cubercnn_dict = single_cubercnn_output, timestamp_ns = timestamp_ns, plot_color = cubercnn_visualizer.COLOR_RED, suffix = \"_model_output\")"
   ]
  },
  {
   "cell_type": "markdown",
   "id": "0dce430e-ad1c-4c69-ad76-f7f64c424cd5",
   "metadata": {},
   "source": [
    "## Part 3: Evaluate model performance\n",
    "ATEK provides **per-task**: \n",
    "1. Standardized prediction file formats.\n",
    "2. Lib for common eval metrics.\n",
    "3. Benchmarking scripts.\n",
    "\n",
    "Example prediction file format for 3D object detection: \n",
    "\n",
    "| time_ns       | tx_world_object | ty_world_object | tz_world_object | qw_world_object | qx_world_object | qy_world_object | qz_world_object | scale_x | scale_y | scale_z | name    | instance | sem_id | prob    |\n",
    "|---------------|-----------------|-----------------|-----------------|-----------------|-----------------|-----------------|-----------------|---------|---------|---------|---------|----------|--------|--------|\n",
    "| 14588033546600| -4.119894       | 0.986124        | 2.796770        | 0.008052        | -0.022706       | -0.010150       | 0.999658        | 0.190   | 2.146   | 0.900   | door    | -1       | 32     | 0.994462|\n",
    "| 14588033546600| -3.875954       | 0.837941        | 4.056602        | 0.009215        | -0.015670       | 0.999661        | -0.018645       | 0.325   | 1.697   | 0.964   | display | -1       | 37     | 0.994381|"
   ]
  },
  {
   "cell_type": "markdown",
   "id": "a7dfe1cb-ee70-45e6-acf4-53f0d85602fb",
   "metadata": {},
   "source": [
    "### Write inference results into ATEK-format csv files\n"
   ]
  },
  {
   "cell_type": "code",
   "execution_count": 8,
   "id": "6c05049d-d650-49e9-89e8-8f03fac3bff9",
   "metadata": {},
   "outputs": [
    {
     "name": "stdout",
     "output_type": "stream",
     "text": [
      "2024-09-11 21:56:04,472 - INFO - starting writing obb3 to /home/louy/Calibration_data_link/Atek/2024_08_05_DryRun/gt_obbs.csv\n",
      "2024-09-11 21:56:04,474 - INFO - starting writing obb3 to /home/louy/Calibration_data_link/Atek/2024_08_05_DryRun/prediction_obbs.csv\n"
     ]
    }
   ],
   "source": [
    "from atek.evaluation.static_object_detection.obb3_csv_io import AtekObb3CsvWriter\n",
    "\n",
    "gt_writer = AtekObb3CsvWriter(output_filename = os.path.join(data_dir, \"gt_obbs.csv\"))\n",
    "prediction_writer = AtekObb3CsvWriter(output_filename = os.path.join(data_dir, \"prediction_obbs.csv\"))\n",
    "\n",
    "for input_data_as_list, output_data_as_list in input_output_data_pairs:\n",
    "    for single_cubercnn_input, single_cubercnn_output in zip(input_data_as_list, output_data_as_list):\n",
    "        timestamp_ns = single_cubercnn_input[\"timestamp_ns\"]\n",
    "        single_cubercnn_output[\"T_world_camera\"] = single_cubercnn_input[\"T_world_camera\"]\n",
    "\n",
    "        gt_writer.write_from_cubercnn_dict(cubercnn_dict = single_cubercnn_input, timestamp_ns = timestamp_ns)\n",
    "        prediction_writer.write_from_cubercnn_dict(cubercnn_dict = single_cubercnn_output, timestamp_ns = timestamp_ns)"
   ]
  },
  {
   "cell_type": "markdown",
   "id": "b08561ca-7589-49e1-88b8-435dda46c69f",
   "metadata": {},
   "source": [
    "### Call ATEK's benchmarking script to evaluate the results"
   ]
  },
  {
   "cell_type": "code",
   "execution_count": 9,
   "id": "32147218-3420-4a0c-8033-951c2ca172ec",
   "metadata": {},
   "outputs": [
    {
     "name": "stdout",
     "output_type": "stream",
     "text": [
      "2024-09-11 21:56:08,263-INFO:Running file-level eval on /home/louy/Calibration_data_link/Atek/2024_08_05_DryRun/prediction_obbs.csv and /home/louy/Calibration_data_link/Atek/2024_08_05_DryRun/gt_obbs.csv\n",
      "2024-09-11 21:56:08,263-INFO:starting loading evaluation obb3s from /home/louy/Calibration_data_link/Atek/2024_08_05_DryRun/prediction_obbs.csv\n",
      "2024-09-11 21:56:08,566-INFO:starting loading evaluation obb3s from /home/louy/Calibration_data_link/Atek/2024_08_05_DryRun/gt_obbs.csv\n",
      "2024-09-11 21:56:10,835-INFO:Computing 3D obb metric\n",
      "2024-09-11 21:56:11,908-INFO:DONE Computing 3D obb metric in 1.0726454257965088 seconds\n",
      "2024-09-11 21:56:11,908-INFO:Object Detection Model Performance Summary\n",
      "=======Overall mAP Scores across all classes=======\n",
      "mAP (Average across IoU thresholds, defined by MeanAveragePrecision3D class, default is [0.05, 0.10, 0.15, ..., 0.5]): 0.3910\n",
      "Average precision (IoU=0.20): 0.1722\n",
      "Average recall (IoU=0.20): 0.3980\n",
      "===mAP across IoU thresholds [0.05, 0.10, 0.15, ..., 0.5]) per Class===\n",
      "Display: 0.9004\n",
      "Cabinet: 0.9000\n",
      "Table: 0.7970\n",
      "Bin: 0.7789\n",
      "Chair: 0.7706\n",
      "Clock: 0.4931\n",
      "Box: 0.3918\n",
      "Shelves: 0.3753\n",
      "Cup: 0.3353\n",
      "Tray: 0.3261\n",
      "Door: 0.1915\n",
      "Bottle: 0.1261\n",
      "Vase: 0.1228\n",
      "Picture: 0.0649\n",
      "Camera: 0.0330\n",
      "Plant: 0.0298\n",
      "Candle: 0.0095\n",
      "=======Timestamp Information=======\n",
      "Number of timestamps: 30\n",
      "Number of timestamps with missing ground truth: 0\n",
      "Number of timestamps with missing predictions: 0\n",
      "\n"
     ]
    }
   ],
   "source": [
    "benchmarking_command = [\n",
    "    \"python3\", f\"{atek_src_path}/tools/benchmarking_static_object_detection.py\",\n",
    "    \"--pred-csv\", f\"{data_dir}/prediction_obbs.csv\",\n",
    "    \"--gt-csv\", f\"{data_dir}/gt_obbs.csv\",\n",
    "    \"--output-file\", f\"{data_dir}/atek_metrics.json\"\n",
    "]\n",
    "return_code = run_command_and_display_output(benchmarking_command)"
   ]
  }
 ],
 "metadata": {
  "kernelspec": {
   "display_name": "Python 3 (ipykernel)",
   "language": "python",
   "name": "python3"
  },
  "language_info": {
   "codemirror_mode": {
    "name": "ipython",
    "version": 3
   },
   "file_extension": ".py",
   "mimetype": "text/x-python",
   "name": "python",
   "nbconvert_exporter": "python",
   "pygments_lexer": "ipython3",
   "version": "3.9.19"
  }
 },
 "nbformat": 4
}
