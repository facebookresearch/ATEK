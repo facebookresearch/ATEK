{
 "cells": [
  {
   "cell_type": "markdown",
   "id": "18cbaf5d-aa3e-4b1e-bd81-63de3ad6566b",
   "metadata": {},
   "source": [
    "# ATEK Demo 3: Model training and evaluation benchmarking\n",
    "In this demo, we will show how to run a mini-ML-training of CubeRCNN model for 3D object detection task, using ATEK preprocessed data from ATEK Data Store. We will also show examples of how to run evaluation benchmarking \n"
   ]
  },
  {
   "cell_type": "code",
   "execution_count": null,
   "id": "cc12b14e-19e2-4a97-9c53-69b415c5516a",
   "metadata": {},
   "outputs": [],
   "source": [
    "import os\n",
    "import logging\n",
    "import sys\n",
    "\n",
    "# Configure logging to display the log messages in the notebook\n",
    "logging.basicConfig(\n",
    "    level=logging.INFO,\n",
    "    format='%(asctime)s - %(levelname)s - %(message)s',\n",
    "    handlers=[\n",
    "        logging.StreamHandler(sys.stdout)\n",
    "    ]\n",
    ")\n",
    "\n",
    "logger = logging.getLogger()\n",
    "\n",
    "# Set up code and data paths\n",
    "atek_src_path = os.path.join(os.path.expanduser(\"~\"), \"atek_on_fbsource\")\n",
    "workdir = \"/home/louy/Calibration_data_link/Atek/2024_08_05_DryRun\"\n",
    "train_data_dir = os.path.join(workdir, \"downloaded_local_wds\")\n"
   ]
  },
  {
   "cell_type": "markdown",
   "id": "0991d7f1-a00e-40c2-87bc-2044a3fcfe66",
   "metadata": {},
   "source": [
    "## Example 1: mini-CubeRCNN training with ATEK data\n",
    "First, follow Demo 2 to download ATEK preprocessed data. Then user can call our `tools/train_cubercnn.py` script to do a mini-scale training. \n",
    "\n",
    "Core code snippets in the script (check out the script for full details): \n",
    "```\n",
    "tar_file_urls = load_yaml_and_extract_paths(train_list_yaml)\n",
    "data_loader = create_atek_dataloader_as_cubercnn(urls = tar_file_urls, ...)\n",
    "# Loop over cubercnn-format data samples\n",
    "for sample_data in data_loader:\n",
    "    loss = model(sample_data)\n",
    "    # perform optimization\n",
    "    ...\n",
    "```\n",
    "\n",
    "For this mini-training example, we will run in terminal instead of in Python notebook. "
   ]
  },
  {
   "cell_type": "code",
   "execution_count": null,
   "id": "7a3ed071-11e2-4a66-8bd3-35928fe1f7dd",
   "metadata": {},
   "outputs": [],
   "source": [
    "mini_training_command = (\n",
    "  f\"mamba activate atek; \"\n",
    "  f\"python {atek_src_path}/tools/train_cubercnn.py\"\n",
    "  f\" --config-file {workdir}/cubercnn_train_config_mini_example.yaml\"\n",
    "  f\" --num-gpus 1\"\n",
    "  f\" OUTPUT_DIR {workdir}/mini_test_1\"\n",
    "  f\" TRAIN_LIST {train_data_dir}/local_train_tars.yaml\"\n",
    "  f\" TEST_LIST {train_data_dir}/local_validation_tars.yaml\" \n",
    "  f\" CATEGORY_JSON {atek_src_path}/data/atek_id_to_name.json\" \n",
    "  f\" ID_MAP_JSON {atek_src_path}/data/atek_name_to_id.json\" \n",
    "  f\" MODEL.WEIGHTS_PRETRAIN /home/louy/Calibration_data_link/Atek/cubercnn_DLA34_FPN.pth\"\n",
    ")\n",
    "logger.info(f\"Please run the following command in terminal to perform mini-scale training: \\n {mini_training_command}\\n\")\n",
    "\n",
    "# Inspect training progress using tensorboard\n",
    "tensorboard_command = \"mamba activate atek; tensorboard --logdir=./ --port 6007 --samples_per_plugin=images=1000\"\n",
    "logger.info(f\"You can run the following command to open a tensorboard to check training progress: \\n {tensorboard_command}\\n\")"
   ]
  },
  {
   "cell_type": "markdown",
   "id": "fcb8e525-6931-4594-8337-7b37f65701de",
   "metadata": {},
   "source": [
    "## Example 2: Run benchmarking on 3D Object Detection Task\n",
    "Another feature provided in ATEK is per-ML-task benchmarking scripts to evaluate model performance. Currently we support 2 ML tasks in benchmakring: \n",
    "1. Static 3D object detection.\n",
    "2. 3D surface reconstruction.\n",
    "\n",
    "Here we will demonstrate how to run static 3D object detection benchmarking `tools/benchmarking_static_object_detction.py`. The script expects provide 2 csv files as input, groundtruth and predictions, both in the same predefined ATEK format (see below). The benchmarking script will compute and report a number of detection metrics. \n"
   ]
  },
  {
   "cell_type": "code",
   "execution_count": null,
   "id": "6d71c035-9968-4927-91d3-bcdbaccfb5ad",
   "metadata": {},
   "outputs": [],
   "source": [
    "benchmarking_command = (\n",
    "    f\"mamba activate atek;\"\n",
    "    f\"python {atek_src_path}/tools/benchmarking_static_object_detection.py \"\n",
    "    f\" --pred-csv {workdir}/eval_results/prediction_obbs.csv\"\n",
    "    f\" --gt-csv {workdir}/eval_results/gt_obbs.csv\"\n",
    "    f\" --output-file {workdir}/eval_results/atek_metrics.json\"\n",
    ")\n",
    "logger.info(f\"Please run the following command in terminal to perform 3D obb benchmarking: \\n {benchmarking_command}\\n\")"
   ]
  }
 ],
 "metadata": {
  "kernelspec": {
   "display_name": "Python 3 (ipykernel)",
   "language": "python",
   "name": "python3"
  },
  "language_info": {
   "codemirror_mode": {
    "name": "ipython",
    "version": 3
   },
   "file_extension": ".py",
   "mimetype": "text/x-python",
   "name": "python",
   "nbconvert_exporter": "python",
   "pygments_lexer": "ipython3",
   "version": "3.9.18"
  }
 },
 "nbformat": 4,
 "nbformat_minor": 5
}
