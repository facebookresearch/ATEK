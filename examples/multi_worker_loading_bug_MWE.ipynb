{
 "cells": [
  {
   "cell_type": "markdown",
   "id": "ce22adc6-a424-4fb4-8376-7f70ca473c63",
   "metadata": {},
   "source": [
    "## Minimum working example for multi-worker dataset loading bug (duplicate filename)"
   ]
  },
  {
   "cell_type": "code",
   "execution_count": null,
   "id": "2386e1ae-e055-415b-b57b-cbb9e7310ff1",
   "metadata": {},
   "outputs": [],
   "source": [
    "import yaml\n",
    "import os\n",
    "import webdataset as wds\n",
    "\n",
    "from typing import List, Optional, Dict\n",
    "import torch\n",
    "\n",
    "from detectron2.data import detection_utils\n",
    "from detectron2.structures import Boxes, BoxMode, Instances\n",
    "\n",
    "from atek.dataset.omni3d_adapter import create_omni3d_webdataset\n",
    "from atek.dataset.atek_webdataset import create_atek_webdataset, create_wds_dataloader"
   ]
  },
  {
   "cell_type": "code",
   "execution_count": null,
   "id": "2d36dc05-8bd3-4e38-a7c2-8a6351beb494",
   "metadata": {},
   "outputs": [],
   "source": [
    "def get_tars(tar_yaml, use_relative_path=False):\n",
    "    with open(tar_yaml, \"r\") as f:\n",
    "        tar_files = yaml.safe_load(f)[\"tars\"]\n",
    "    if use_relative_path:\n",
    "        data_dir = os.path.dirname(tar_yaml)\n",
    "        tar_files = [os.path.join(data_dir, x) for x in tar_files]\n",
    "    return tar_files\n",
    "\n",
    "train_list_file = \"/data/home/louy/datadir/ase_wds/2024_02_19_200_sequences/train_tars.yaml\"\n",
    "tars = get_tars(train_list_file, use_relative_path=True)\n",
    "ID_MAP_JSON=\"/data/home/louy/workdir/ATEK/data/ase_id_mapping.json\"\n",
    "\n",
    "omni3d_wds = create_omni3d_webdataset(tars, batch_size=32, category_id_remapping_json=ID_MAP_JSON, repeat = True)\n",
    "dataloader = create_wds_dataloader(omni3d_wds, num_workers=8, pin_memory=False)\n",
    "data_iter = iter(dataloader)"
   ]
  },
  {
   "cell_type": "code",
   "execution_count": null,
   "id": "b2c05016-a7db-43b2-9839-c4099a924e05",
   "metadata": {},
   "outputs": [],
   "source": [
    "for i in range(100):\n",
    "    orig_data = next(data_iter)\n",
    "    data = [x for x in orig_data if x[\"instances\"].get(\"gt_classes\").numel() > 0]\n",
    "    seq_name = data[0][\"sequence_name\"]\n",
    "    print(f\"--- --- debug: processing data from sequence {seq_name}\") "
   ]
  }
 ],
 "metadata": {
  "kernelspec": {
   "display_name": "Python 3 (ipykernel)",
   "language": "python",
   "name": "python3"
  },
  "language_info": {
   "codemirror_mode": {
    "name": "ipython",
    "version": 3
   },
   "file_extension": ".py",
   "mimetype": "text/x-python",
   "name": "python",
   "nbconvert_exporter": "python",
   "pygments_lexer": "ipython3",
   "version": "3.9.18"
  }
 },
 "nbformat": 4,
 "nbformat_minor": 5
}
